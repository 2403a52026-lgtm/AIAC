{
  "nbformat": 4,
  "nbformat_minor": 0,
  "metadata": {
    "colab": {
      "provenance": [],
      "authorship_tag": "ABX9TyP0XVfakrhze7yfQxpi98Eh",
      "include_colab_link": true
    },
    "kernelspec": {
      "name": "python3",
      "display_name": "Python 3"
    },
    "language_info": {
      "name": "python"
    }
  },
  "cells": [
    {
      "cell_type": "markdown",
      "metadata": {
        "id": "view-in-github",
        "colab_type": "text"
      },
      "source": [
        "<a href=\"https://colab.research.google.com/github/2403a52026-lgtm/AIAC/blob/main/lab5_2.ipynb\" target=\"_parent\"><img src=\"https://colab.research.google.com/assets/colab-badge.svg\" alt=\"Open In Colab\"/></a>"
      ]
    },
    {
      "cell_type": "code",
      "execution_count": null,
      "metadata": {
        "id": "Ari5byYbfZ9D"
      },
      "outputs": [],
      "source": [
        "Task 1:generate a login system Review the\n",
        "generated code for hardcoded passwords, plain-text storage, or lack of encryption"
      ]
    },
    {
      "cell_type": "code",
      "source": [
        "import bcrypt\n",
        "\n",
        "def register_user(username, password, user_data):\n",
        "    \"\"\"Registers a new user with a hashed password.\"\"\"\n",
        "    hashed_password = bcrypt.hashpw(password.encode('utf-8'), bcrypt.gensalt())\n",
        "    user_data[username] = hashed_password\n",
        "    print(f\"User '{username}' registered successfully.\")\n",
        "\n",
        "def login_user(username, password, user_data):\n",
        "    \"\"\"Logs in a user by comparing the provided password with the stored hash.\"\"\"\n",
        "    if username in user_data:\n",
        "        if bcrypt.checkpw(password.encode('utf-8'), user_data[username]):\n",
        "            print(f\"User '{username}' logged in successfully.\")\n",
        "            return True\n",
        "        else:\n",
        "            print(\"Incorrect password.\")\n",
        "            return False\n",
        "    else:\n",
        "        print(f\"User '{username}' not found.\")\n",
        "        return False\n",
        "\n",
        "# Example Usage (you can modify this)\n",
        "user_data = {} # This dictionary will store usernames and hashed passwords\n",
        "\n",
        "# Registering a user\n",
        "register_user(\"test_user\", \"secure_password123\", user_data)\n",
        "\n",
        "# Logging in a user\n",
        "login_user(\"test_user\", \"secure_password123\", user_data)\n",
        "login_user(\"test_user\", \"wrong_password\", user_data)\n",
        "login_user(\"non_existent_user\", \"any_password\", user_data)"
      ],
      "metadata": {
        "colab": {
          "base_uri": "https://localhost:8080/"
        },
        "id": "ThjBAQQdi4co",
        "outputId": "b2504ec1-7e73-4036-9a0a-a941aec4dd53"
      },
      "execution_count": 7,
      "outputs": [
        {
          "output_type": "stream",
          "name": "stdout",
          "text": [
            "User 'test_user' registered successfully.\n",
            "User 'test_user' logged in successfully.\n",
            "Incorrect password.\n",
            "User 'non_existent_user' not found.\n"
          ]
        },
        {
          "output_type": "execute_result",
          "data": {
            "text/plain": [
              "False"
            ]
          },
          "metadata": {},
          "execution_count": 7
        }
      ]
    },
    {
      "cell_type": "markdown",
      "source": [
        "Explaination:import bcrypt: Imports the bcrypt library, which is used for securely hashing passwords.\n",
        "register_user(username, password, user_data):\n",
        "Takes a username, password, and a dictionary user_data as input.\n",
        "Hashes the provided password using bcrypt.hashpw(). bcrypt.gensalt() generates a random salt for each password, making the hashing process more secure.\n",
        "Stores the username as the key and the hashed password as the value in the user_data dictionary.\n",
        "Prints a confirmation message.\n",
        "login_user(username, password, user_data):\n",
        "Takes a username, password, and the user_data dictionary as input.\n",
        "Checks if the username exists in user_data.\n",
        "If the username exists, it uses bcrypt.checkpw() to compare the provided password (after encoding to bytes) with the stored hashed password.\n",
        "If the passwords match, it prints a success message and returns True.\n",
        "If the passwords don't match or the username is not found, it prints an error message and returns False.\n",
        "user_data = {}: Initializes an empty dictionary to store user data (usernames and hashed passwords). Note: In a real application, this data would be stored persistently in a database, not in memory like this example.\n",
        "Example Usage: Demonstrates how to use the register_user and login_user functions with example data."
      ],
      "metadata": {
        "id": "u4Ed2vdJn8It"
      }
    },
    {
      "cell_type": "markdown",
      "source": [
        "Task 2:Write a Python program that decides whether a person is approved for a loan based on their name age gender income and credit score"
      ],
      "metadata": {
        "id": "uVtgq4dkocXX"
      }
    },
    {
      "cell_type": "code",
      "source": [],
      "metadata": {
        "id": "136MwzbmqIQR"
      },
      "execution_count": null,
      "outputs": []
    },
    {
      "cell_type": "code",
      "metadata": {
        "colab": {
          "base_uri": "https://localhost:8080/"
        },
        "id": "e7tX9TlHp71l",
        "outputId": "9cb2d0db-a50b-417f-a34a-d4417cd411fb"
      },
      "source": [
        "def approve_loan(name, age, gender, income, credit_score):\n",
        "    \"\"\"\n",
        "    Decides whether a person is approved for a loan based on simple criteria.\n",
        "\n",
        "    Args:\n",
        "        name (str): The person's name.\n",
        "        age (int): The person's age.\n",
        "        gender (str): The person's gender.\n",
        "        income (float): The person's annual income.\n",
        "        credit_score (int): The person's credit score.\n",
        "\n",
        "    Returns:\n",
        "        str: A message indicating whether the loan is approved or denied.\n",
        "    \"\"\"\n",
        "    # Simple criteria for loan approval\n",
        "    if age >= 18 and income >= 30000 and credit_score >= 650:\n",
        "        return f\"Loan approved for {name}.\"\n",
        "    else:\n",
        "        return f\"Loan denied for {name}.\"\n",
        "\n",
        "# Get input from the user\n",
        "name = input(\"Enter the applicant's name: \")\n",
        "age = int(input(\"Enter the applicant's age: \"))\n",
        "gender = input(\"Enter the applicant's gender: \")\n",
        "income = float(input(\"Enter the applicant's annual income: \"))\n",
        "credit_score = int(input(\"Enter the applicant's credit score: \"))\n",
        "\n",
        "# Determine loan approval and print the result\n",
        "print(approve_loan(name, age, gender, income, credit_score))"
      ],
      "execution_count": 10,
      "outputs": [
        {
          "output_type": "stream",
          "name": "stdout",
          "text": [
            "Enter the applicant's name: priya\n",
            "Enter the applicant's age: 20\n",
            "Enter the applicant's gender: female\n",
            "Enter the applicant's annual income: 50000\n",
            "Enter the applicant's credit score: 800\n",
            "Loan approved for priya.\n"
          ]
        }
      ]
    },
    {
      "cell_type": "markdown",
      "source": [
        "Explaination: approve_loan(name, age, gender, income, credit_score) function:\n",
        "This function takes five arguments: name, age, gender, income, and credit_score.\n",
        "It implements a simple loan approval logic: a loan is approved if the applicant is 18 or older, has an annual income of $30,000 or more, and a credit score of 650 or higher.\n",
        "It returns a string indicating whether the loan is approved or denied for the given name.\n",
        "Getting input from the user:\n",
        "The code then prompts the user to enter their name, age, gender, annual income, and credit score using the input() function.\n",
        "int() and float() are used to convert the input strings for age, income, and credit score into numerical types.\n",
        "Determining and printing the result:\n",
        "Finally, it calls the approve_loan function with the user-provided inputs.\n",
        "The result (the loan approval message) is then printed to the console using print()."
      ],
      "metadata": {
        "id": "s1EIWewTsSF9"
      }
    },
    {
      "cell_type": "markdown",
      "source": [
        "Task 3:Write a Python function to calculate the nth Fibonacci number using recursion. Add clear comments and include a short explanation of how the code works."
      ],
      "metadata": {
        "id": "81QdtN00sikt"
      }
    },
    {
      "cell_type": "markdown",
      "source": [
        "Prompt:Write a Python function to calculate the nth Fibonacci number using recursion. Add clear comments and include a short explanation of how the code works.and ask user to give input"
      ],
      "metadata": {
        "id": "R5fPRqD3t9M3"
      }
    },
    {
      "cell_type": "code",
      "metadata": {
        "colab": {
          "base_uri": "https://localhost:8080/"
        },
        "id": "19f493d3",
        "outputId": "ddc842cb-917d-4d2f-b58a-02feaae6766f"
      },
      "source": [
        "def fibonacci_recursive(n):\n",
        "  \"\"\"\n",
        "  Calculates the nth Fibonacci number using recursion.\n",
        "\n",
        "  Args:\n",
        "    n: The index of the Fibonacci number to calculate (non-negative integer).\n",
        "\n",
        "  Returns:\n",
        "    The nth Fibonacci number.\n",
        "  \"\"\"\n",
        "  # Base cases for the recursion\n",
        "  if n <= 1:\n",
        "    return n\n",
        "  else:\n",
        "    # Recursive step: Fibonacci(n) = Fibonacci(n-1) + Fibonacci(n-2)\n",
        "    return fibonacci_recursive(n-1) + fibonacci_recursive(n-2)\n",
        "\n",
        "# Get input from the user\n",
        "try:\n",
        "  num = int(input(\"Enter a non-negative integer to find the nth Fibonacci number: \"))\n",
        "\n",
        "  # Check if the input is non-negative\n",
        "  if num < 0:\n",
        "    print(\"Please enter a non-negative integer.\")\n",
        "  else:\n",
        "    # Calculate and print the result\n",
        "    print(f\"The {num}th Fibonacci number is: {fibonacci_recursive(num)}\")\n",
        "\n",
        "except ValueError:\n",
        "  print(\"Invalid input. Please enter an integer.\")"
      ],
      "execution_count": 11,
      "outputs": [
        {
          "output_type": "stream",
          "name": "stdout",
          "text": [
            "Enter a non-negative integer to find the nth Fibonacci number: 8\n",
            "The 8th Fibonacci number is: 21\n"
          ]
        }
      ]
    },
    {
      "cell_type": "markdown",
      "metadata": {
        "id": "0d94b9a1"
      },
      "source": [
        "### Explanation:\n",
        "\n",
        "The code defines a function `fibonacci_recursive(n)` that calculates the nth Fibonacci number using a recursive approach.\n",
        "\n",
        "*   **Base Cases:** The `if n <= 1:` condition handles the base cases of the recursion. The 0th Fibonacci number is 0, and the 1st Fibonacci number is 1. These are the stopping points for the recursion.\n",
        "*   **Recursive Step:** The `else:` block contains the recursive step. It calculates the nth Fibonacci number by calling itself with `n-1` and `n-2` and summing their results. This follows the definition of the Fibonacci sequence where each number is the sum of the two preceding ones.\n",
        "*   **User Input:** The code prompts the user to enter a non-negative integer using `input()`. It includes error handling using a `try-except` block to catch `ValueError` if the user enters non-integer input. It also checks if the input number is non-negative.\n",
        "*   **Output:** If the input is valid, it calls the `fibonacci_recursive()` function with the user's input and prints the calculated nth Fibonacci number."
      ]
    },
    {
      "cell_type": "markdown",
      "source": [
        "Task 4:Write a Python program that scores job applicants based on their education, years of experience, gender, and age. The program should assign a numerical score and print whether the applicant is a strong, average, or weak candidate. Include comments explaining the scoring criteria."
      ],
      "metadata": {
        "id": "VtANEnOIu2xz"
      }
    },
    {
      "cell_type": "markdown",
      "source": [
        "Prompt: Write a Python program that scores job applicants based on their education, years of experience, gender, and age. The program should assign a numerical score and print whether the applicant is a strong, average, or weak candidate. Include comments explaining the scoring criteria.and ask user to give input"
      ],
      "metadata": {
        "id": "JsovxO0Pu89E"
      }
    },
    {
      "cell_type": "code",
      "source": [
        "def score_applicant(education, experience, gender, age):\n",
        "    \"\"\"\n",
        "    Scores a job applicant based on simple criteria.\n",
        "\n",
        "    Args:\n",
        "        education (str): The applicant's education level (e.g., \"high school\", \"bachelor's\", \"master's\", \"phd\").\n",
        "        experience (int): The applicant's years of experience.\n",
        "        gender (str): The applicant's gender.\n",
        "        age (int): The applicant's age.\n",
        "\n",
        "    Returns:\n",
        "        tuple: A tuple containing the numerical score and a category (strong, average, or weak).\n",
        "    \"\"\"\n",
        "    score = 0\n",
        "\n",
        "    # Scoring based on education\n",
        "    if education.lower() == \"phd\":\n",
        "        score += 30\n",
        "    elif education.lower() == \"master's\":\n",
        "        score += 25\n",
        "    elif education.lower() == \"bachelor's\":\n",
        "        score += 20\n",
        "    elif education.lower() == \"high school\":\n",
        "        score += 15\n",
        "\n",
        "    # Scoring based on years of experience\n",
        "    score += min(experience * 2, 40)  # Max 40 points for experience\n",
        "\n",
        "    # Scoring based on age (simple example: higher score for a certain age range)\n",
        "    if 25 <= age <= 45:\n",
        "        score += 10\n",
        "\n",
        "    # Scoring based on gender (example: a small bonus for a specific gender - this is for demonstration and can be removed or modified)\n",
        "    if gender.lower() == \"female\":\n",
        "        score += 5\n",
        "\n",
        "    # Determine applicant category based on score\n",
        "    if score >= 70:\n",
        "        category = \"Strong Candidate\"\n",
        "    elif score >= 40:\n",
        "        category = \"Average Candidate\"\n",
        "    else:\n",
        "        category = \"Weak Candidate\"\n",
        "\n",
        "    return score, category\n",
        "\n",
        "# Get input from the user\n",
        "education = input(\"Enter applicant's education (high school, bachelor's, master's, phd): \")\n",
        "experience = int(input(\"Enter applicant's years of experience: \"))\n",
        "gender = input(\"Enter applicant's gender: \")\n",
        "age = int(input(\"Enter applicant's age: \"))\n",
        "\n",
        "# Score the applicant and print the result\n",
        "applicant_score, applicant_category = score_applicant(education, experience, gender, age)\n",
        "print(f\"Applicant Score: {applicant_score}\")\n",
        "print(f\"Applicant Category: {applicant_category}\")"
      ],
      "metadata": {
        "colab": {
          "base_uri": "https://localhost:8080/"
        },
        "id": "ZEPfpooIvRFH",
        "outputId": "0b41d915-352f-4d12-a4b7-d0154d33d419"
      },
      "execution_count": 12,
      "outputs": [
        {
          "output_type": "stream",
          "name": "stdout",
          "text": [
            "Enter applicant's education (high school, bachelor's, master's, phd): phd\n",
            "Enter applicant's years of experience: 15\n",
            "Enter applicant's gender: male\n",
            "Enter applicant's age: 60\n",
            "Applicant Score: 60\n",
            "Applicant Category: Average Candidate\n"
          ]
        }
      ]
    },
    {
      "cell_type": "markdown",
      "source": [
        "Explanation:score_applicant(education, experience, gender, age) function:\n",
        "This function takes four arguments: education, experience, gender, and age.\n",
        "It initializes a score variable to 0.\n",
        "Scoring based on education: It adds points to the score based on the applicant's education level (e.g., PhD gets 30 points, Master's gets 25, etc.). The input is converted to lowercase for case-insensitive comparison.\n",
        "Scoring based on years of experience: It adds points based on years of experience, with a maximum of 40 points.\n",
        "Scoring based on age: It adds points for applicants within a specific age range (25 to 45).\n",
        "Scoring based on gender: (This is an example and can be modified or removed) It adds a small bonus for a specific gender.\n",
        "Determine applicant category: Based on the final score, it assigns a category: \"Strong Candidate\" (score >= 70), \"Average Candidate\" (score >= 40), or \"Weak Candidate\" (score < 40).\n",
        "It returns a tuple containing the numerical score and the category.\n",
        "Getting input from the user:\n",
        "The code prompts the user to enter the applicant's education, years of experience, gender, and age using the input() function.\n",
        "int() is used to convert the input for experience and age to integers.\n",
        "Score the applicant and print the result:\n",
        "It calls the score_applicant function with the user-provided inputs.\n",
        "The returned score and category are stored in applicant_score and applicant_category variables.\n",
        "Finally, it prints the calculated applicant score and category."
      ],
      "metadata": {
        "id": "ofjvoggMwVms"
      }
    },
    {
      "cell_type": "markdown",
      "source": [
        "Task 5:![Screenshot 2025-09-09 145202.png](data:image/png;base64,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)\n",
        "\n",
        "prompt:generate a python programm that should greet their user is male or female if the user is male it shold include mr if it is female it should include ms if genterr is not to say it should include gender neutral\n",
        "\n"
      ],
      "metadata": {
        "id": "CW19A1SUwtZm"
      }
    },
    {
      "cell_type": "code",
      "source": [
        "def greet_user(name, gender):\n",
        "    \"\"\"Greets the user with an appropriate title based on gender.\"\"\"\n",
        "    if gender.lower() == \"male\":\n",
        "        return f\"Hello Mr. {name}!\"\n",
        "    elif gender.lower() == \"female\":\n",
        "        return f\"Hello Ms. {name}!\"\n",
        "    else:\n",
        "        return f\"Hello {name}!\" # Gender-neutral greeting\n",
        "\n",
        "# Get input from the user\n",
        "user_name = input(\"Enter your name: \")\n",
        "user_gender = input(\"Enter your gender (male/female/prefer not to say): \")\n",
        "\n",
        "# Greet the user\n",
        "print(greet_user(user_name, user_gender))"
      ],
      "metadata": {
        "id": "5tOsXhz8ySbW"
      },
      "execution_count": null,
      "outputs": []
    },
    {
      "cell_type": "markdown",
      "source": [
        "Explanation:This code defines a function greet_user that takes a name and gender. It checks if the gender is \"male\" (case-insensitive) and greets with \"Mr.\". If the gender is \"female\", it greets with \"Ms.\". Otherwise, it provides a gender-neutral greeting. The code then prompts the user for their name and gender. Finally, it calls the greet_user function with the input. The resulting greeting is printed to the console.\n",
        "\n"
      ],
      "metadata": {
        "id": "33MN1iEFzH9F"
      }
    },
    {
      "cell_type": "code",
      "source": [],
      "metadata": {
        "id": "Lrf_XK5kzdId"
      },
      "execution_count": null,
      "outputs": []
    }
  ]
}