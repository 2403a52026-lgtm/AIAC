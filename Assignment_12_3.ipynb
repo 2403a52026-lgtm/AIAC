{
  "nbformat": 4,
  "nbformat_minor": 0,
  "metadata": {
    "colab": {
      "provenance": [],
      "authorship_tag": "ABX9TyNj43c93yprsHckdIFrv49+",
      "include_colab_link": true
    },
    "kernelspec": {
      "name": "python3",
      "display_name": "Python 3"
    },
    "language_info": {
      "name": "python"
    }
  },
  "cells": [
    {
      "cell_type": "markdown",
      "metadata": {
        "id": "view-in-github",
        "colab_type": "text"
      },
      "source": [
        "<a href=\"https://colab.research.google.com/github/2403a52026-lgtm/AIAC/blob/main/Assignment_12_3.ipynb\" target=\"_parent\"><img src=\"https://colab.research.google.com/assets/colab-badge.svg\" alt=\"Open In Colab\"/></a>"
      ]
    },
    {
      "cell_type": "markdown",
      "source": [
        "Task 1: Write python code for linear_search() function to search a value\n",
        "in a list and extract it’s index"
      ],
      "metadata": {
        "id": "bo9DNyHq-dw4"
      }
    },
    {
      "cell_type": "markdown",
      "source": [
        "prompt:generate a python code for linear_search() funcion to search a value in a list and extract its index"
      ],
      "metadata": {
        "id": "zpgehs2K-hgJ"
      }
    },
    {
      "cell_type": "code",
      "source": [
        "def linear_search(arr, x):\n",
        "  \"\"\"\n",
        "  Searches for a value in a list using linear search and returns its index.\n",
        "\n",
        "  Args:\n",
        "    arr: The list to search in.\n",
        "    x: The value to search for.\n",
        "\n",
        "  Returns:\n",
        "    The index of the value if found, -1 otherwise.\n",
        "  \"\"\"\n",
        "  for i in range(len(arr)):\n",
        "    if arr[i] == x:\n",
        "      return i\n",
        "  return -1\n",
        "\n",
        "# Example usage:\n",
        "my_list = [1, 5, 3, 8, 2]\n",
        "value_to_find = 8\n",
        "index = linear_search(my_list, value_to_find)\n",
        "\n",
        "if index != -1:\n",
        "  print(f\"Value {value_to_find} found at index {index}\")\n",
        "else:\n",
        "  print(f\"Value {value_to_find} not found in the list\")\n",
        "\n",
        "value_to_find = 10\n",
        "index = linear_search(my_list, value_to_find)\n",
        "\n",
        "if index != -1:\n",
        "  print(f\"Value {value_to_find} found at index {index}\")\n",
        "else:\n",
        "  print(f\"Value {value_to_find} not found in the list\")"
      ],
      "metadata": {
        "colab": {
          "base_uri": "https://localhost:8080/"
        },
        "id": "gY-2yH2S-39B",
        "outputId": "26a710fa-6222-425c-c5ae-fb11dcee6002"
      },
      "execution_count": 1,
      "outputs": [
        {
          "output_type": "stream",
          "name": "stdout",
          "text": [
            "Value 8 found at index 3\n",
            "Value 10 not found in the list\n"
          ]
        }
      ]
    },
    {
      "cell_type": "markdown",
      "source": [
        "Explaination:\n",
        "   Absolutely! The selected code defines a function called linear_search that takes a list (arr) and a value (x) as input. It iterates through each element of the list, comparing it to the target value. If a match is found, it returns the index of that element. If the loop finishes without finding the value, it returns -1, indicating the value is not present in the list. The example usage demonstrates how to call the function and prints whether the value was found and at which index."
      ],
      "metadata": {
        "id": "i6F1Mway_eR_"
      }
    },
    {
      "cell_type": "markdown",
      "source": [
        "Task 2: Ask AI to implement Bubble Sort and check sorted output"
      ],
      "metadata": {
        "id": "qBTllq4i_G2J"
      }
    },
    {
      "cell_type": "markdown",
      "source": [
        "Prompt:generate a python program to implement bubble sort and check sorted output"
      ],
      "metadata": {
        "id": "DsExI7x3_P1A"
      }
    },
    {
      "cell_type": "code",
      "source": [
        "def bubble_sort(arr):\n",
        "  \"\"\"\n",
        "  Sorts a list using bubble sort.\n",
        "\n",
        "  Args:\n",
        "    arr: The list to sort.\n",
        "  \"\"\"\n",
        "  n = len(arr)\n",
        "  for i in range(n):\n",
        "    # Last i elements are already in place\n",
        "    for j in range(0, n - i - 1):\n",
        "      # traverse the list from 0 to n-i-1\n",
        "      # Swap if the element found is greater than the next element\n",
        "      if arr[j] > arr[j + 1]:\n",
        "        arr[j], arr[j + 1] = arr[j + 1], arr[j]\n",
        "\n",
        "# Example usage:\n",
        "my_list = [64, 34, 25, 12, 22, 11, 90]\n",
        "\n",
        "print(\"Original list:\", my_list)\n",
        "bubble_sort(my_list)\n",
        "print(\"Sorted list:\", my_list)"
      ],
      "metadata": {
        "colab": {
          "base_uri": "https://localhost:8080/"
        },
        "id": "o4xnA8cZ_WDn",
        "outputId": "71ac383a-8a8c-4b20-9985-d541fc603cc1"
      },
      "execution_count": 2,
      "outputs": [
        {
          "output_type": "stream",
          "name": "stdout",
          "text": [
            "Original list: [64, 34, 25, 12, 22, 11, 90]\n",
            "Sorted list: [11, 12, 22, 25, 34, 64, 90]\n"
          ]
        }
      ]
    },
    {
      "cell_type": "markdown",
      "source": [
        "Explaination:\n",
        "It gets the length of the list (n).\n",
        "\n",
        "It uses two nested loops to iterate through the list.\n",
        "\n",
        "The outer loop runs n times. In each iteration, the largest unsorted element \"bubbles up\" to its correct position at the end of the unsorted portion of the list.\n",
        "\n",
        "The inner loop compares adjacent elements and swaps them if they are in the wrong order (i.e., the left element is greater than the right element). The range of the inner loop decreases in each outer loop iteration because the elements at the end are already sorted.\n",
        "\n",
        "The example usage shows an unsorted list, prints it, calls the bubble_sort function to sort it, and then prints the sorted list.\n"
      ],
      "metadata": {
        "id": "u-C2gaCcAXQI"
      }
    },
    {
      "cell_type": "markdown",
      "source": [
        "Task 3: Write python code to solve below case study using linear\n",
        "optimization\n"
      ],
      "metadata": {
        "id": "SvCkSdhsAsHj"
      }
    },
    {
      "cell_type": "markdown",
      "source": [
        "Prompt:generate a python program to solve the below case study using linear\n",
        "\n",
        "optimization:\n",
        "Consider a chocolate manufacturing company that produces only two types of chocolate i.e. A and B. Both the chocolates require Milk and Choco only. Venkataramana\n",
        "To manufacture each unit of A and B, the following quantities ar required:\n",
        "Each unit of A requires 1 unit of Milk and 3 units of Choco\n",
        "Each unit of B requires 1 unit of Milk and 2 units of Choco\n",
        " The company kitchen has a total of 5 units of Milk and 12 units of Choco. On each sale, the company makes a profit of Rs 6 per unit A sold and Rs 5 per unit B sold.\n",
        "Now, the company wishes to maximize its profit. How many units of A and B shoud it produce respectively?"
      ],
      "metadata": {
        "id": "dXBs0A5TBAeo"
      }
    },
    {
      "cell_type": "code",
      "source": [
        "from scipy.optimize import linprog\n",
        "\n",
        "# Coefficients of the objective function to maximize (profits per unit)\n",
        "# We want to maximize 6*A + 5*B, so the coefficients are -6 and -5 for minimization\n",
        "c = [-6, -5]\n",
        "\n",
        "# Coefficients of the inequality constraints (resource constraints)\n",
        "# Milk constraint: 1*A + 1*B <= 5\n",
        "# Choco constraint: 3*A + 2*B <= 12\n",
        "A = [[1, 1], [3, 2]]\n",
        "\n",
        "# Right-hand side of the inequality constraints (available resources)\n",
        "b = [5, 12]\n",
        "\n",
        "# Bounds for the variables (number of units produced cannot be negative)\n",
        "x0_bounds = (0, None)  # Units of A >= 0\n",
        "x1_bounds = (0, None)  # Units of B >= 0\n",
        "bounds = [x0_bounds, x1_bounds]\n",
        "\n",
        "# Solve the linear programming problem\n",
        "result = linprog(c, A_ub=A, b_ub=b, bounds=bounds, method='highs')\n",
        "\n",
        "# Print the results\n",
        "if result.success:\n",
        "    print(\"Optimization successful!\")\n",
        "    print(f\"Units of A to produce: {round(result.x[0])}\")\n",
        "    print(f\"Units of B to produce: {round(result.x[1])}\")\n",
        "    print(f\"Maximum profit: Rs {-result.fun}\") # Negate the result as we minimized the negative profit\n",
        "else:\n",
        "    print(\"Optimization failed.\")\n",
        "    print(result.message)"
      ],
      "metadata": {
        "colab": {
          "base_uri": "https://localhost:8080/"
        },
        "id": "oDvm9zG1Bfq8",
        "outputId": "032f4472-c9bd-46df-9544-9587fa59f284"
      },
      "execution_count": 3,
      "outputs": [
        {
          "output_type": "stream",
          "name": "stdout",
          "text": [
            "Optimization successful!\n",
            "Units of A to produce: 2\n",
            "Units of B to produce: 3\n",
            "Maximum profit: Rs 27.0\n"
          ]
        }
      ]
    },
    {
      "cell_type": "markdown",
      "source": [
        "Explaination:\n",
        "\n",
        "from scipy.optimize import linprog: Imports the necessary function from the SciPy library.\n",
        "\n",
        "c = [-6, -5]: This array represents the coefficients of the objective function. Since linprog minimizes, and we want to maximize profit (6 per unit of A and 5 per unit of B), we use the negative of the profits (-6 and -5).\n",
        "\n",
        "A = [[1, 1], [3, 2]]: This 2D array contains the coefficients of the inequality constraints.\n",
        "\n",
        "The first row [1, 1] corresponds to the milk constraint: 1 unit of milk for A + 1 unit of milk for B <= 5 (available milk).\n",
        "\n",
        "The second row [3, 2] corresponds to the choco constraint: 3 units of choco for A + 2 units of choco for B <= 12 (available choco).\n",
        "\n",
        "b = [5, 12]: This array contains the right-hand side values of the inequality constraints (the available resources).\n",
        "\n",
        "x0_bounds = (0, None) and x1_bounds = (0, None): These define the bounds for the variables (units of A and B). (0, None) means the number of units must be greater than or equal to 0.\n",
        "\n",
        "bounds = [x0_bounds, x1_bounds]: Combines the bounds for both variables.\n",
        "\n",
        "result = linprog(c, A_ub=A, b_ub=b, bounds=bounds, method='highs'): This is the core function call.\n",
        "\n",
        "c: The objective function coefficients.\n",
        "\n",
        "A_ub: The coefficients of the upper-bound inequality constraints (<=).\n",
        "\n",
        "b_ub: The right-hand side of the upper-bound inequality constraints.\n",
        "\n",
        "bounds: The bounds for each variable.\n",
        "\n",
        "method='highs': Specifies the algorithm to use for solving the problem.\n",
        "\n",
        "if result.success:: Checks if the optimization was successful.\n",
        "\n",
        "print(...): Prints the results, including the optimal number of units for A and B (result.x) and the maximum profit (-result.fun - negated because we minimized the negative profit).\n",
        "\n",
        "else:: If the optimization failed, it prints an error message."
      ],
      "metadata": {
        "id": "FB4yFYVbCDLf"
      }
    },
    {
      "cell_type": "markdown",
      "source": [
        "Task 4: Write python code to find value of x at which the function\n",
        "f(x)=2X3+4x+5 will be minimum\n"
      ],
      "metadata": {
        "id": "BP9ysKwDDizD"
      }
    },
    {
      "cell_type": "markdown",
      "source": [
        "Prompt: generate a python code to find value of x at which the function f(x)=2X3+4X+5 will be minimum"
      ],
      "metadata": {
        "id": "l596R8q8Dq72"
      }
    },
    {
      "cell_type": "code",
      "source": [
        "from scipy.optimize import minimize\n",
        "\n",
        "# Define the function\n",
        "def f(x):\n",
        "  return 2*x**3 + 4*x + 5\n",
        "\n",
        "# Use an initial guess for x\n",
        "x0 = 0\n",
        "\n",
        "# Find the minimum\n",
        "result = minimize(f, x0, method='nelder-mead')\n",
        "\n",
        "# Print the result\n",
        "if result.success:\n",
        "  print(f\"The minimum value of the function is approximately {result.fun:.4f} at x = {result.x[0]:.4f}\")\n",
        "else:\n",
        "  print(\"Optimization failed.\")\n",
        "  print(result.message)\n",
        "\n",
        "# Note: This function is monotonically increasing, so there is no global minimum.\n",
        "# The result found here is likely due to the optimization algorithm converging on a point within the search space\n",
        "# or the limitations of numerical precision."
      ],
      "metadata": {
        "colab": {
          "base_uri": "https://localhost:8080/"
        },
        "id": "YXXmDdBIESe1",
        "outputId": "7d7e98af-2384-4362-dbfa-13fa44c50c5c"
      },
      "execution_count": 4,
      "outputs": [
        {
          "output_type": "stream",
          "name": "stdout",
          "text": [
            "Optimization failed.\n",
            "Maximum number of function evaluations has been exceeded.\n"
          ]
        }
      ]
    },
    {
      "cell_type": "markdown",
      "source": [
        "Explaination:\n",
        "from scipy.optimize import minimize: Imports the necessary function from the SciPy library.\n",
        "\n",
        "def f(x): return 2*x**3 + 4*x + 5: Defines the function for which we want to find the minimum.\n",
        "\n",
        "x0 = 0: Sets an initial guess for the value of x.\n",
        "\n",
        "result = minimize(f, x0, method='nelder-mead'): This is the core function call to find the minimum.\n",
        "\n",
        "f: The function to minimize.\n",
        "\n",
        "x0: The initial guess.\n",
        "\n",
        "method='nelder-mead': Specifies the optimization algorithm to use.\n",
        "\n",
        "if result.success:: Checks if the optimization was successful.\n",
        "\n",
        "print(...): If successful, prints the minimum value found and the x value at which it occurred.\n",
        "\n",
        "else:: If the optimization failed, it prints an error message."
      ],
      "metadata": {
        "id": "npxrMTyLEbVN"
      }
    }
  ]
}