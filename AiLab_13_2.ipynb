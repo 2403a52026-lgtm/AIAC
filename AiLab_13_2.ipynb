{
  "nbformat": 4,
  "nbformat_minor": 0,
  "metadata": {
    "colab": {
      "provenance": [],
      "include_colab_link": true
    },
    "kernelspec": {
      "name": "python3",
      "display_name": "Python 3"
    },
    "language_info": {
      "name": "python"
    }
  },
  "cells": [
    {
      "cell_type": "markdown",
      "metadata": {
        "id": "view-in-github",
        "colab_type": "text"
      },
      "source": [
        "<a href=\"https://colab.research.google.com/github/2403a52026-lgtm/AIAC/blob/main/AiLab_13_2.ipynb\" target=\"_parent\"><img src=\"https://colab.research.google.com/assets/colab-badge.svg\" alt=\"Open In Colab\"/></a>"
      ]
    },
    {
      "cell_type": "markdown",
      "source": [
        "Task1: Provide AI with the following redundant code and ask it to\n",
        "refactor\n",
        "Python Code\n",
        "def calculate_area(shape, x, y=0):\n",
        "if shape == \"rectangle\":\n",
        "return x * y\n",
        "elif shape == \"square\":\n",
        "return x * x\n",
        "elif shape == \"circle\":\n",
        "return 3.14 * x * x"
      ],
      "metadata": {
        "id": "1XeH1IoY1Hm9"
      }
    },
    {
      "cell_type": "markdown",
      "source": [
        "Prompt:chage the code into Refactored version with dictionary-based dispatch or separate\n",
        "functions.\n",
        "def calculate_area(shape, x, y=0):\n",
        "if shape == \"rectangle\":\n",
        "return x * y\n",
        "elif shape == \"square\":\n",
        "return x * x\n",
        "elif shape == \"circle\":\n",
        "return 3.14 * x * x"
      ],
      "metadata": {
        "id": "09wremqR1J_A"
      }
    },
    {
      "cell_type": "code",
      "source": [
        "import math\n",
        "\n",
        "def calculate_rectangle_area(x, y):\n",
        "  return x * y\n",
        "\n",
        "def calculate_square_area(x):\n",
        "  return x * x\n",
        "\n",
        "def calculate_circle_area(x):\n",
        "  return math.pi * x * x\n",
        "\n",
        "area_calculators = {\n",
        "    \"rectangle\": calculate_rectangle_area,\n",
        "    \"square\": calculate_square_area,\n",
        "    \"circle\": calculate_circle_area\n",
        "}\n",
        "\n",
        "def calculate_area(shape, x, y=0):\n",
        "  if shape in area_calculators:\n",
        "    if shape == \"rectangle\":\n",
        "      return area_calculators[shape](x, y)\n",
        "    else:\n",
        "      return area_calculators[shape](x)\n",
        "  else:\n",
        "    return \"Invalid shape\"\n",
        "\n",
        "# Example usage:\n",
        "print(calculate_area(\"rectangle\", 5, 10))\n",
        "print(calculate_area(\"square\", 7))\n",
        "print(calculate_area(\"circle\", 4))\n",
        "print(calculate_area(\"triangle\", 5, 6))"
      ],
      "metadata": {
        "colab": {
          "base_uri": "https://localhost:8080/"
        },
        "id": "Oa4eG7XM1gkj",
        "outputId": "c659169e-e446-418c-d849-4b6152d35120"
      },
      "execution_count": null,
      "outputs": [
        {
          "output_type": "stream",
          "name": "stdout",
          "text": [
            "50\n",
            "49\n",
            "50.26548245743669\n",
            "Invalid shape\n"
          ]
        }
      ]
    },
    {
      "cell_type": "markdown",
      "source": [
        "Explaination:Import math: This line imports the math module to use math.pi for a more accurate value of pi when calculating the circle's area.\n",
        "Separate Area Calculation Functions:\n",
        "calculate_rectangle_area(x, y): Calculates the area of a rectangle given length x and width y.\n",
        "calculate_square_area(x): Calculates the area of a square given side length x.\n",
        "calculate_circle_area(x): Calculates the area of a circle given radius x using math.pi.\n",
        "area_calculators Dictionary: This dictionary stores the area calculation functions, with the shape name as the key and the corresponding function as the value. This is the core of the dictionary-based dispatch.\n",
        "Refactored calculate_area Function:\n",
        "Takes shape, x, and an optional y (defaulting to 0) as input.\n",
        "Checks if the given shape exists as a key in the area_calculators dictionary.\n",
        "If the shape is found:\n",
        "It specifically checks if the shape is \"rectangle\". If it is, it calls the corresponding function from the dictionary with both x and y arguments.\n",
        "For other shapes (square and circle), it calls the corresponding function with only the x argument.\n",
        "If the shape is not found in the dictionary, it returns \"Invalid shape\"."
      ],
      "metadata": {
        "id": "y5LxbJcO16Ba"
      }
    },
    {
      "cell_type": "markdown",
      "source": [
        "Task2:Legacy function without proper error handling\n",
        "Python Code\n",
        "def read_file(filename):\n",
        "f = open(filename, \"r\")\n",
        "data = f.read()\n",
        "f.close()\n",
        "return data"
      ],
      "metadata": {
        "id": "ngEjIkIk2KIL"
      }
    },
    {
      "cell_type": "markdown",
      "source": [
        "Prompt:Refactor this Python function to use with open() and proper try-except error handling:\n",
        "Python Code\n",
        "def read_file(filename):\n",
        "f = open(filename, \"r\")\n",
        "data = f.read()\n",
        "f.close()\n",
        "return data"
      ],
      "metadata": {
        "id": "sU5_UNi92vZa"
      }
    },
    {
      "cell_type": "code",
      "source": [
        "def read_file_robust(filename):\n",
        "  \"\"\"\n",
        "  Reads a file and returns its content using with open() and try-except.\n",
        "\n",
        "  Args:\n",
        "    filename: The name of the file to read.\n",
        "\n",
        "  Returns:\n",
        "    The content of the file if successful, otherwise returns an error message.\n",
        "  \"\"\"\n",
        "  try:\n",
        "    with open(filename, 'r') as f:\n",
        "      data = f.read()\n",
        "    return data\n",
        "  except FileNotFoundError:\n",
        "    return f\"Error: File '{filename}' not found.\"\n",
        "  except Exception as e:\n",
        "    return f\"An error occurred: {e}\"\n",
        "\n",
        "# Example usage (replace 'your_file.txt' with an actual file path):\n",
        "print(read_file_robust('your_file.txt'))\n",
        "print(read_file_robust('non_existent_file.txt'))"
      ],
      "metadata": {
        "colab": {
          "base_uri": "https://localhost:8080/"
        },
        "id": "hm1kREMP2-LT",
        "outputId": "514f5739-bf90-4620-8277-adfd67da0a5f"
      },
      "execution_count": null,
      "outputs": [
        {
          "output_type": "stream",
          "name": "stdout",
          "text": [
            "Error: File 'your_file.txt' not found.\n",
            "Error: File 'non_existent_file.txt' not found.\n"
          ]
        }
      ]
    },
    {
      "cell_type": "markdown",
      "source": [
        "Explaination:def read_file_robust(filename):: This defines a function named read_file_robust that takes one argument, filename, which is the path to the file you want to read.\n",
        "Docstring: The triple-quoted string below the function definition is a docstring. It explains what the function does, its arguments (Args), and what it returns (Returns). This is good practice for making your code understandable.\n",
        "try...except block: This block is used for error handling. The code inside the try block is executed, and if an error occurs, the code in the corresponding except block is executed.\n",
        "with open(filename, 'r') as f:: This is the modern and recommended way to open files in Python.\n",
        "open(filename, 'r'): This opens the file specified by filename in read mode ('r').\n",
        "with ... as f:: This is a context manager. It ensures that the file is automatically closed even if errors occur. The opened file object is assigned to the variable f.\n",
        "data = f.read(): This line reads the entire content of the file f and stores it in the variable data.\n",
        "return data: If the file is opened and read successfully, the function returns the data (the content of the file).\n",
        "except FileNotFoundError:: This except block specifically catches the FileNotFoundError that occurs if the specified filename does not exist. If this error happens, it returns a user-friendly error message.\n",
        "except Exception as e:: This is a more general except block that catches any other type of exception that might occur during the file reading process (e.g., permission errors). It returns a generic error message including the specific error e.\n",
        "Example Usage (commented out): The lines at the end show how you would call this function. The first line is commented out because you would need to replace 'your_file.txt' with an actual file path on your system. The second line shows how it would handle a non-existent file"
      ],
      "metadata": {
        "id": "Xd8pWdRR3E6_"
      }
    },
    {
      "cell_type": "markdown",
      "source": [
        "Task3:Task: Provide this legacy class to AI for readability and modularity\n",
        "improvements:\n",
        "Python Code\n",
        "class Student:\n",
        "def __init__(self, n, a, m1, m2, m3):\n",
        "self.n = n\n",
        "self.a = a\n",
        "self.m1 = m1\n",
        "self.m2 = m2\n",
        "self.m3 = m3\n",
        "def details(self):\n",
        "print(\"Name:\", self.n, \"Age:\", self.a)\n",
        "def total(self):\n",
        "return self.m1+self.m2+self.m3"
      ],
      "metadata": {
        "id": "I5YcZFXB3N77"
      }
    },
    {
      "cell_type": "markdown",
      "source": [
        "Prompt:Refactor the following legacy Student class for better readability and modularity. Improve variable naming, add docstrings, make print statements more readable, and store marks in a list so total marks can be computed using sum(self.marks)\n",
        "class Student:\n",
        "def __init__(self, n, a, m1, m2, m3):\n",
        "self.n = n\n",
        "self.a = a\n",
        "self.m1 = m1\n",
        "self.m2 = m2\n",
        "self.m3 = m3\n",
        "def details(self):\n",
        "print(\"Name:\", self.n, \"Age:\", self.a)\n",
        "def total(self):\n",
        "return self.m1+self.m2+self.m"
      ],
      "metadata": {
        "id": "nuDrpuwV3dLz"
      }
    },
    {
      "cell_type": "code",
      "source": [
        "class Student:\n",
        "    \"\"\"\n",
        "    Represents a student with their name, age, and marks in three subjects.\n",
        "    \"\"\"\n",
        "    def __init__(self, name, age, mark1, mark2, mark3):\n",
        "        \"\"\"\n",
        "        Initializes a new Student object.\n",
        "\n",
        "        Args:\n",
        "            name (str): The name of the student.\n",
        "            age (int): The age of the student.\n",
        "            mark1 (int): The mark in the first subject.\n",
        "            mark2 (int): The mark in the second subject.\n",
        "            mark3 (int): The mark in the third subject.\n",
        "        \"\"\"\n",
        "        self.name = name\n",
        "        self.age = age\n",
        "        self.marks = [mark1, mark2, mark3]\n",
        "\n",
        "    def display_details(self):\n",
        "        \"\"\"\n",
        "        Prints the details of the student (name and age).\n",
        "        \"\"\"\n",
        "        print(f\"Name: {self.name}, Age: {self.age}\")\n",
        "\n",
        "    def calculate_total_marks(self):\n",
        "        \"\"\"\n",
        "        Calculates and returns the total marks of the student.\n",
        "        \"\"\"\n",
        "        return sum(self.marks)\n",
        "\n",
        "# Example Usage:\n",
        "student1 = Student(\"Alice\", 16, 85, 90, 78)\n",
        "student1.display_details()\n",
        "print(f\"Total Marks: {student1.calculate_total_marks()}\")"
      ],
      "metadata": {
        "colab": {
          "base_uri": "https://localhost:8080/"
        },
        "id": "oUkdLP8K4QJI",
        "outputId": "3f1bb25e-97d4-4f2c-9386-096e5cac639f"
      },
      "execution_count": null,
      "outputs": [
        {
          "output_type": "stream",
          "name": "stdout",
          "text": [
            "Name: Alice, Age: 16\n",
            "Total Marks: 253\n"
          ]
        }
      ]
    },
    {
      "cell_type": "markdown",
      "source": [
        "Explaination:Class Docstring: The triple-quoted string right after class Student: is a docstring for the class. It provides a brief description of what the Student class represents.\n",
        "__init__(self, name, age, mark1, mark2, mark3): This is the constructor method, called when you create a new Student object.\n",
        "Variable names like n, a, m1, m2, m3 have been changed to more descriptive names: name, age, mark1, mark2, and mark3.\n",
        "A docstring has been added to explain the purpose of the method and its arguments.\n",
        "The marks (mark1, mark2, mark3) are now stored in a list called self.marks.\n",
        "display_details(self): This method replaces the old details method.\n",
        "The name is more descriptive.\n",
        "A docstring is added.\n",
        "The print statement uses an f-string (f\"Name: {self.name}, Age: {self.age}\") for a more readable output format.\n",
        "calculate_total_marks(self): This method replaces the old total method.\n",
        "The name is more descriptive.\n",
        "A docstring is added.\n",
        "It calculates the total marks by using the built-in sum() function on the self.marks list, which is cleaner and more flexible if you were to add more marks later.\n",
        "Example Usage (commented out): The commented-out lines show how to create a Student object and call its methods."
      ],
      "metadata": {
        "id": "bjjAGsLw4l_j"
      }
    },
    {
      "cell_type": "markdown",
      "source": [
        "Task4:Task: Refactor this inefficient loop with AI help\n",
        "Python Code\n",
        "nums = [1,2,3,4,5,6,7,8,9,10]\n",
        "squares = []\n",
        "for i in nums:\n",
        "squares.append(i * i)"
      ],
      "metadata": {
        "id": "T67hX7w54vOE"
      }
    },
    {
      "cell_type": "markdown",
      "source": [
        "Prompt:Refactor this inefficient loop in the code:\n",
        "Python Code\n",
        "nums = [1,2,3,4,5,6,7,8,9,10]\n",
        "squares = []\n",
        "for i in nums:\n",
        "squares.append(i * i)"
      ],
      "metadata": {
        "id": "gdyqyuD548Pw"
      }
    },
    {
      "cell_type": "code",
      "source": [
        "nums = [1, 2, 3, 4, 5, 6, 7, 8, 9, 10]\n",
        "\n",
        "# Refactored using a list comprehension\n",
        "squares = [i * i for i in nums]\n",
        "\n",
        "print(squares)"
      ],
      "metadata": {
        "colab": {
          "base_uri": "https://localhost:8080/"
        },
        "id": "8WljpNC05H22",
        "outputId": "2bb754fd-f363-4850-fd63-8c61c03b43c9"
      },
      "execution_count": null,
      "outputs": [
        {
          "output_type": "stream",
          "name": "stdout",
          "text": [
            "[1, 4, 9, 16, 25, 36, 49, 64, 81, 100]\n"
          ]
        }
      ]
    },
    {
      "cell_type": "markdown",
      "source": [
        "Explaination:nums = [1, 2, 3, 4, 5, 6, 7, 8, 9, 10]: This line initializes a list named nums containing integers from 1 to 10.\n",
        "squares = [i * i for i in nums]: This is the list comprehension. It's a concise way to create lists in Python.\n",
        "for i in nums: This part iterates through each element in the nums list, assigning the current element to the variable i.\n",
        "i * i: For each i, this expression calculates its square.\n",
        "[...]: The square brackets indicate that a new list is being created."
      ],
      "metadata": {
        "id": "_FJyZse55PdN"
      }
    }
  ]
}