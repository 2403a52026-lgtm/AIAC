{
  "nbformat": 4,
  "nbformat_minor": 0,
  "metadata": {
    "colab": {
      "provenance": [],
      "authorship_tag": "ABX9TyMryEPs1klBUGx0dHnD8n8L",
      "include_colab_link": true
    },
    "kernelspec": {
      "name": "python3",
      "display_name": "Python 3"
    },
    "language_info": {
      "name": "python"
    }
  },
  "cells": [
    {
      "cell_type": "markdown",
      "metadata": {
        "id": "view-in-github",
        "colab_type": "text"
      },
      "source": [
        "<a href=\"https://colab.research.google.com/github/2403a52026-lgtm/AIAC/blob/main/Assignment10.2.ipynb\" target=\"_parent\"><img src=\"https://colab.research.google.com/assets/colab-badge.svg\" alt=\"Open In Colab\"/></a>"
      ]
    },
    {
      "cell_type": "markdown",
      "source": [
        "Task Description#1 AI-Assisted Code Review (Basic Errors)\n",
        "\n",
        "• Write python program as shown below.\n",
        "\n",
        "• Use an AI assistant to review and suggest corrections."
      ],
      "metadata": {
        "id": "Pg70N5c0tbr4"
      }
    },
    {
      "cell_type": "code",
      "execution_count": null,
      "metadata": {
        "colab": {
          "base_uri": "https://localhost:8080/"
        },
        "id": "r-w3_q8rpYEy",
        "outputId": "0c9ec35a-1c84-417c-a456-25532eeb8932"
      },
      "outputs": [
        {
          "output_type": "stream",
          "name": "stdout",
          "text": [
            "the factorial of 5 is 120\n",
            "BIG Number\n"
          ]
        }
      ],
      "source": [
        "def calcFact(n):\n",
        "  result = 1\n",
        "  for i in range(1, n + 1): # Changed to n + 1 to include n\n",
        "    result = result * i\n",
        "  return result\n",
        "\n",
        "def main():\n",
        "  num = 5\n",
        "  FACT = calcFact(num)\n",
        "  print(\"the factorial of\", num, \"is\", FACT)\n",
        "  t = 10\n",
        "  if FACT > 10:\n",
        "    print(\"BIG Number\")\n",
        "  else:\n",
        "    print(\"small number\")\n",
        "\n",
        "main()"
      ]
    },
    {
      "cell_type": "markdown",
      "source": [
        "Explaination :\n",
        "\n",
        "The calcFact(n) function calculates the factorial of a given number n. It initializes result to 1 and then iterates from 1 to n (inclusive), multiplying result by each number in the range. Finally, it returns the calculated factorial.\n",
        "\n",
        "The main() function is the entry point of the program. It sets a variable num to 5 and calls calcFact() with num to get the factorial, storing it in the FACT variable. It then prints the calculated factorial. After that, it checks if FACT is greater than 10 and prints \"BIG Number\" or \"small number\" accordingly.\n",
        "\n",
        "Finally, main() is called to execute the program."
      ],
      "metadata": {
        "id": "D7QCPsrLupBW"
      }
    },
    {
      "cell_type": "markdown",
      "source": [
        "Observation: Asked AI to Review the given code and to suggest the corrections."
      ],
      "metadata": {
        "id": "6Y53SIx0uix7"
      }
    },
    {
      "cell_type": "markdown",
      "source": [
        "Task 2: Automatic Inline Comments\n",
        "\n",
        "• Write the Python code for Fibonacci as shown below and execute.\n",
        "\n",
        "• Ask AI to improve variable names, add comments, and apply PEP8 formatting\n",
        "(cleaned up).\n",
        "\n",
        "• Students evaluate which suggestions improve readability most. one."
      ],
      "metadata": {
        "id": "8EBftNxxvM5X"
      }
    },
    {
      "cell_type": "code",
      "source": [
        "# Function to generate Fibonacci sequence\n",
        "def generate_fibonacci(num_terms):\n",
        "    \"\"\"Generates a Fibonacci sequence up to a specified number of terms.\"\"\"\n",
        "    fib_series = []\n",
        "    a, b = 0, 1\n",
        "    count = 0\n",
        "\n",
        "    # Handle the case of 0 or 1 terms\n",
        "    if num_terms <= 0:\n",
        "        return \"Please enter a positive integer.\"\n",
        "    elif num_terms == 1:\n",
        "        fib_series.append(a)\n",
        "        return fib_series\n",
        "    else:\n",
        "        while count < num_terms:\n",
        "            fib_series.append(a)\n",
        "            nth = a + b\n",
        "            # update values\n",
        "            a = b\n",
        "            b = nth\n",
        "            count += 1\n",
        "        return fib_series\n",
        "\n",
        "# Main function to demonstrate the Fibonacci sequence generation\n",
        "def main():\n",
        "    num_terms = 10  # Specify the number of terms\n",
        "    fibonacci_sequence = generate_fibonacci(num_terms)\n",
        "    print(f\"Fibonacci series till {num_terms} terms: {fibonacci_sequence}\")\n",
        "\n",
        "# Execute the main function\n",
        "main()"
      ],
      "metadata": {
        "colab": {
          "base_uri": "https://localhost:8080/"
        },
        "id": "koiAw4DdwFsH",
        "outputId": "4133b699-20bf-43db-b891-e510be9b1867"
      },
      "execution_count": null,
      "outputs": [
        {
          "output_type": "stream",
          "name": "stdout",
          "text": [
            "Fibonacci series till 10 terms: [0, 1, 1, 2, 3, 5, 8, 13, 21, 34]\n"
          ]
        }
      ]
    },
    {
      "cell_type": "markdown",
      "source": [
        "Explanation:\n",
        "\n",
        "1. `generate_fibonacci_series(n_terms)`returns a list of the first `n_terms` in the Fibonacci sequence, handling special cases for 0, 1, or 2 terms.\n",
        "\n",
        "2. It starts with `[0, 1]` and keeps adding the sum of the last two numbers until the list reaches the desired length.\n",
        "\n",
        "3. main() repeatedly prompts the user for a non-negative integer and handles invalid input.\n",
        "\n",
        "4. Once valid input is received, it calls `generate_fibonacci_series()` and prints the result.\n",
        "\n",
        "5. The `main()` function only runs if the script is executed directly (`if __name__ == \"__main__\"`)."
      ],
      "metadata": {
        "id": "p5RgqXvnxJW6"
      }
    },
    {
      "cell_type": "markdown",
      "source": [
        "Observation : Asked AI to improve variable names, add comments, and apply PEP8 formatting (cleaned up) for the given code."
      ],
      "metadata": {
        "id": "mifXYeH-x_2o"
      }
    },
    {
      "cell_type": "markdown",
      "source": [
        "Task 3:\n",
        "\n",
        "• Write a Python script with 3–4 functions (e.g., calculator: add, subtract, multiply,\n",
        "divide).\n",
        "\n",
        "• Incorporate manual docstring in code with NumPy Style\n",
        "\n",
        "• Use AI assistance to generate a module-level docstring + individual function\n",
        "docstrings.\n",
        "\n",
        "• Compare the AI-generated docstring with your manually written one"
      ],
      "metadata": {
        "id": "jCpneDl4zUms"
      }
    },
    {
      "cell_type": "code",
      "source": [
        "# This is a simple calculator module that includes functions\n",
        "# to add, subtract, multiply, and divide two numbers.\n",
        "\n",
        "# Function to add two numbers\n",
        "def add(a, b):\n",
        "    # Returns the sum of a and b\n",
        "    return a + b\n",
        "\n",
        "# Function to subtract the second number from the first\n",
        "def subtract(a, b):\n",
        "    # Returns the result of a minus b\n",
        "    return a - b\n",
        "\n",
        "# Function to multiply two numbers\n",
        "def multiply(a, b):\n",
        "    # Returns the product of a and b\n",
        "    return a * b\n",
        "\n",
        "# Function to divide the first number by the second\n",
        "def divide(a, b):\n",
        "    # If b is 0, raise an error to avoid dividing by zero\n",
        "    if b == 0:\n",
        "        raise ZeroDivisionError(\"Cannot divide by zero.\")\n",
        "    # Returns the result of a divided by b\n",
        "    return a / b"
      ],
      "metadata": {
        "id": "pqPJ6Tsw1bEE"
      },
      "execution_count": null,
      "outputs": []
    },
    {
      "cell_type": "markdown",
      "source": [
        "Prompt :generate a python code with 4 functions like add ,subtract,multiply and divide give it with module level docstring +individual function docstring."
      ],
      "metadata": {
        "id": "deVH6j-i282E"
      }
    },
    {
      "cell_type": "code",
      "source": [
        "\"\"\"\n",
        "This module provides basic arithmetic operations.\n",
        "\n",
        "Functions:\n",
        "    add(a, b): Adds two numbers.\n",
        "    subtract(a, b): Subtracts the second number from the first.\n",
        "    multiply(a, b): Multiplies two numbers.\n",
        "    divide(a, b): Divides the first number by the second.\n",
        "\"\"\"\n",
        "\n",
        "def add(a, b):\n",
        "    \"\"\"\n",
        "    Adds two numbers.\n",
        "\n",
        "    Parameters\n",
        "    ----------\n",
        "    a : int or float\n",
        "        The first number.\n",
        "    b : int or float\n",
        "        The second number.\n",
        "\n",
        "    Returns\n",
        "    -------\n",
        "    int or float\n",
        "        The sum of a and b.\n",
        "    \"\"\"\n",
        "    return a + b\n",
        "\n",
        "def subtract(a, b):\n",
        "    \"\"\"\n",
        "    Subtracts the second number from the first.\n",
        "\n",
        "    Parameters\n",
        "    ----------\n",
        "    a : int or float\n",
        "        The first number.\n",
        "    b : int or float\n",
        "        The second number.\n",
        "\n",
        "    Returns\n",
        "    -------\n",
        "    int or float\n",
        "        The result of a minus b.\n",
        "    \"\"\"\n",
        "    return a - b\n",
        "\n",
        "def multiply(a, b):\n",
        "    \"\"\"\n",
        "    Multiplies two numbers.\n",
        "\n",
        "    Parameters\n",
        "    ----------\n",
        "    a : int or float\n",
        "        The first number.\n",
        "    b : int or float\n",
        "        The second number.\n",
        "\n",
        "    Returns\n",
        "    -------\n",
        "    int or float\n",
        "        The product of a and b.\n",
        "    \"\"\"\n",
        "    return a * b\n",
        "\n",
        "def divide(a, b):\n",
        "    \"\"\"\n",
        "    Divides the first number by the second.\n",
        "\n",
        "    Parameters\n",
        "    ----------\n",
        "    a : int or float\n",
        "        The first number.\n",
        "    b : int or float\n",
        "        The second number.\n",
        "\n",
        "    Returns\n",
        "    -------\n",
        "    int or float\n",
        "        The result of a divided by b.\n",
        "\n",
        "    Raises\n",
        "    ------\n",
        "    ZeroDivisionError\n",
        "        If the second number (b) is zero.\n",
        "    \"\"\"\n",
        "    if b == 0:\n",
        "        raise ZeroDivisionError(\"Cannot divide by zero.\")\n",
        "    return a / b"
      ],
      "metadata": {
        "id": "EYsXONCO28PZ"
      },
      "execution_count": null,
      "outputs": []
    },
    {
      "cell_type": "markdown",
      "source": [
        "Comparision:The manually written docstrings are simple and easy to understand, making them suitable for beginners or small projects. In contrast, the AI-generated NumPy-style docstrings are more structured, detailed, and professional, including parameter types, return types, and exception handling. Overall, the AI version is better suited for large or collaborative projects where clear and standardized documentation is important."
      ],
      "metadata": {
        "id": "CLhtv0h33OlA"
      }
    }
  ]
}