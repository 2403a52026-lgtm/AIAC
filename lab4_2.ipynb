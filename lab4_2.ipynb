{
  "nbformat": 4,
  "nbformat_minor": 0,
  "metadata": {
    "colab": {
      "provenance": [],
      "authorship_tag": "ABX9TyOYuSDcy43CEhC5JEYyr/NN",
      "include_colab_link": true
    },
    "kernelspec": {
      "name": "python3",
      "display_name": "Python 3"
    },
    "language_info": {
      "name": "python"
    }
  },
  "cells": [
    {
      "cell_type": "markdown",
      "metadata": {
        "id": "view-in-github",
        "colab_type": "text"
      },
      "source": [
        "<a href=\"https://colab.research.google.com/github/2403a52026-lgtm/AIAC/blob/main/lab4_2.ipynb\" target=\"_parent\"><img src=\"https://colab.research.google.com/assets/colab-badge.svg\" alt=\"Open In Colab\"/></a>"
      ]
    },
    {
      "cell_type": "markdown",
      "source": [],
      "metadata": {
        "id": "qtkf3oiZcyS4"
      }
    },
    {
      "cell_type": "code",
      "execution_count": null,
      "metadata": {
        "id": "UDsiC2_pcEIV"
      },
      "outputs": [],
      "source": [
        "Task 1:\n",
        "Write a Python function to generate the Fibonacci sequence up to n terms"
      ]
    },
    {
      "cell_type": "code",
      "metadata": {
        "colab": {
          "base_uri": "https://localhost:8080/"
        },
        "id": "78cd1a46",
        "outputId": "1cbeb5cf-ccf3-499e-b141-be963f53f443"
      },
      "source": [
        "def fibonacci_sequence(n):\n",
        "    \"\"\"\n",
        "    Generates the Fibonacci sequence up to n terms.\n",
        "\n",
        "    Args:\n",
        "        n: The number of terms in the sequence.\n",
        "\n",
        "    Returns:\n",
        "        A list containing the Fibonacci sequence up to n terms.\n",
        "    \"\"\"\n",
        "    if n <= 0:\n",
        "        return []\n",
        "    elif n == 1:\n",
        "        return [0]\n",
        "    else:\n",
        "        sequence = [0, 1]\n",
        "        while len(sequence) < n:\n",
        "            next_term = sequence[-1] + sequence[-2]\n",
        "            sequence.append(next_term)\n",
        "        return sequence\n",
        "\n",
        "# Example usage:\n",
        "n_terms = 10\n",
        "fib_sequence = fibonacci_sequence(n_terms)\n",
        "print(f\"Fibonacci sequence up to {n_terms} terms: {fib_sequence}\")"
      ],
      "execution_count": 1,
      "outputs": [
        {
          "output_type": "stream",
          "name": "stdout",
          "text": [
            "Fibonacci sequence up to 10 terms: [0, 1, 1, 2, 3, 5, 8, 13, 21, 34]\n"
          ]
        }
      ]
    },
    {
      "cell_type": "markdown",
      "source": [
        "Task 02:\n",
        "Generate a python function that converts Fahrenheit to Celsius, example: Input: 100, Output: 37.78, take dynamic input."
      ],
      "metadata": {
        "id": "S3l2ebwJg4Zk"
      }
    },
    {
      "cell_type": "code",
      "metadata": {
        "colab": {
          "base_uri": "https://localhost:8080/"
        },
        "id": "43c00418",
        "outputId": "94b43398-33fa-4f18-ac3e-d0a70b91d1c7"
      },
      "source": [
        "def fahrenheit_to_celsius(fahrenheit):\n",
        "  \"\"\"Converts Fahrenheit to Celsius.\n",
        "\n",
        "  Args:\n",
        "    fahrenheit: The temperature in Fahrenheit.\n",
        "\n",
        "  Returns:\n",
        "    The temperature in Celsius.\n",
        "  \"\"\"\n",
        "  celsius = (fahrenheit - 32) * 5/9\n",
        "  return celsius\n",
        "\n",
        "# Example usage:\n",
        "# Get dynamic input from the user\n",
        "try:\n",
        "    fahrenheit_temp = float(input(\"Enter temperature in Fahrenheit: \"))\n",
        "    celsius_temp = fahrenheit_to_celsius(fahrenheit_temp)\n",
        "    print(f\"{fahrenheit_temp} Fahrenheit is equal to {celsius_temp:.2f} Celsius\")\n",
        "except ValueError:\n",
        "    print(\"Invalid input. Please enter a numeric value for temperature.\")"
      ],
      "execution_count": 4,
      "outputs": [
        {
          "output_type": "stream",
          "name": "stdout",
          "text": [
            "Enter temperature in Fahrenheit: 100\n",
            "100.0 Fahrenheit is equal to 37.78 Celsius\n"
          ]
        }
      ]
    },
    {
      "cell_type": "markdown",
      "source": [
        "Task 03:\n",
        "Write a Python function that extracts the domain from an email address, take input dynamicaly, Examples: Input: user1@gmail.com, Output: @gmail.com, Input: abc123@yahoo.com, Output: @yahoo.com."
      ],
      "metadata": {
        "id": "FZTJV2tpjRbf"
      }
    },
    {
      "cell_type": "code",
      "metadata": {
        "colab": {
          "base_uri": "https://localhost:8080/"
        },
        "id": "09513409",
        "outputId": "042ccd1e-88d0-4489-88df-0e0911a49866"
      },
      "source": [
        "def extract_domain_from_email(email):\n",
        "  \"\"\"Extracts the domain name from an email address.\n",
        "\n",
        "  Args:\n",
        "    email: The email address as a string.\n",
        "\n",
        "  Returns:\n",
        "    The domain name as a string, including the '@' symbol if present,\n",
        "    or None if the email format is invalid.\n",
        "  \"\"\"\n",
        "  if \"@\" in email:\n",
        "    return \"@\" + email.split(\"@\")[-1]\n",
        "  else:\n",
        "    return None\n",
        "\n",
        "# Example usage with dynamic input:\n",
        "email_address = input(\"Enter an email address: \")\n",
        "domain = extract_domain_from_email(email_address)\n",
        "\n",
        "if domain:\n",
        "  print(f\"The domain is: {domain}\")\n",
        "else:\n",
        "  print(\"Invalid email format.\")"
      ],
      "execution_count": 6,
      "outputs": [
        {
          "output_type": "stream",
          "name": "stdout",
          "text": [
            "Enter an email address: 2403a52026@sru.edu.in\n",
            "The domain is: @sru.edu.in\n"
          ]
        }
      ]
    },
    {
      "cell_type": "markdown",
      "source": [
        "Task 04:\n",
        "(Zero shot)Write a Python function that checks whether a word is a palindrome. The function should ignore punctuation and case."
      ],
      "metadata": {
        "id": "nsAYDc5WlNfl"
      }
    },
    {
      "cell_type": "code",
      "metadata": {
        "colab": {
          "base_uri": "https://localhost:8080/"
        },
        "id": "444b6dcf",
        "outputId": "f04c13a4-2cd8-4299-9777-3b5f2989800c"
      },
      "source": [
        "import string\n",
        "\n",
        "def is_palindrome(word):\n",
        "  \"\"\"Checks if a word is a palindrome, ignoring punctuation and case.\n",
        "\n",
        "  Args:\n",
        "    word: The word to check.\n",
        "\n",
        "  Returns:\n",
        "    True if the word is a palindrome, False otherwise.\n",
        "  \"\"\"\n",
        "  # Remove punctuation and convert to lowercase\n",
        "  cleaned_word = ''.join(char.lower() for char in word if char not in string.punctuation)\n",
        "\n",
        "  # Check if the cleaned word is a palindrome\n",
        "  return cleaned_word == cleaned_word[::-1]\n",
        "\n",
        "# Example usage:\n",
        "print(f\"'Racecar' is a palindrome: {is_palindrome('Racecar')}\")\n",
        "print(f\"'Hello!' is a palindrome: {is_palindrome('Hello!')}\")\n",
        "print(f\"'Madam, I'm Adam.' is a palindrome: {is_palindrome('Madam, I\\'m Adam.')}\")\n",
        "print(f\"'A man, a plan, a canal: Panama' is a palindrome: {is_palindrome('A man, a plan, a canal: Panama')}\")"
      ],
      "execution_count": 7,
      "outputs": [
        {
          "output_type": "stream",
          "name": "stdout",
          "text": [
            "'Racecar' is a palindrome: True\n",
            "'Hello!' is a palindrome: False\n",
            "'Madam, I'm Adam.' is a palindrome: False\n",
            "'A man, a plan, a canal: Panama' is a palindrome: False\n"
          ]
        }
      ]
    },
    {
      "cell_type": "markdown",
      "source": [
        "Task 04:\n",
        "(few shot) Write a Python function that checks whether a word is a palindrome, ignoring punctuation and case. Follow the examples:\""
      ],
      "metadata": {
        "id": "FNSR7dRXm1s1"
      }
    },
    {
      "cell_type": "code",
      "metadata": {
        "colab": {
          "base_uri": "https://localhost:8080/"
        },
        "id": "d637e5a6",
        "outputId": "4ecd737d-1917-4099-c587-ab6cb89bc324"
      },
      "source": [
        "import string\n",
        "\n",
        "def is_palindrome(word):\n",
        "  \"\"\"Checks if a word is a palindrome, ignoring punctuation and case.\n",
        "\n",
        "  Args:\n",
        "    word: The word to check.\n",
        "\n",
        "  Returns:\n",
        "    True if the word is a palindrome, False otherwise.\n",
        "  \"\"\"\n",
        "  # Remove punctuation and convert to lowercase\n",
        "  cleaned_word = ''.join(char.lower() for char in word if char not in string.punctuation)\n",
        "\n",
        "  # Check if the cleaned word is a palindrome\n",
        "  return cleaned_word == cleaned_word[::-1]\n",
        "\n",
        "# Example usage:\n",
        "print(f\"'Racecar' is a palindrome: {is_palindrome('Racecar')}\")\n",
        "print(f\"'Hello!' is a palindrome: {is_palindrome('Hello!')}\")\n",
        "print(f\"'Madam, I'm Adam.' is a palindrome: {is_palindrome('Madam, I\\'m Adam.')}\")\n",
        "print(f\"'A man, a plan, a canal: Panama' is a palindrome: {is_palindrome('A man, a plan, a canal: Panama')}\")"
      ],
      "execution_count": 8,
      "outputs": [
        {
          "output_type": "stream",
          "name": "stdout",
          "text": [
            "'Racecar' is a palindrome: True\n",
            "'Hello!' is a palindrome: False\n",
            "'Madam, I'm Adam.' is a palindrome: False\n",
            "'A man, a plan, a canal: Panama' is a palindrome: False\n"
          ]
        }
      ]
    },
    {
      "cell_type": "markdown",
      "source": [
        "Task 05:\n",
        "generate a function that should determine the maximum of three numbers without using built-in function max()\n",
        "example1: input: a=1,b=20,c=10\n",
        "output:the maximum of three numbers is 20\n",
        " example 2: input:a=20,b=57,c=9\n",
        " output: The maximum of three numbers is 57 and ask user to give input."
      ],
      "metadata": {
        "id": "lLTalTlpn0_I"
      }
    },
    {
      "cell_type": "code",
      "metadata": {
        "colab": {
          "base_uri": "https://localhost:8080/"
        },
        "id": "1f530efe",
        "outputId": "12bb43f3-4303-4224-dba0-66adfbc3e8ec"
      },
      "source": [
        "def find_maximum_of_three(a, b, c):\n",
        "  \"\"\"\n",
        "  Determines the maximum of three numbers without using the built-in max() function.\n",
        "\n",
        "  Args:\n",
        "    a: The first number.\n",
        "    b: The second number.\n",
        "    c: The third number.\n",
        "\n",
        "  Returns:\n",
        "    The maximum of the three numbers.\n",
        "  \"\"\"\n",
        "  maximum = a\n",
        "  if b > maximum:\n",
        "    maximum = b\n",
        "  if c > maximum:\n",
        "    maximum = c\n",
        "  return maximum\n",
        "\n",
        "# Get dynamic input from the user\n",
        "try:\n",
        "    num1 = float(input(\"Enter the first number: \"))\n",
        "    num2 = float(input(\"Enter the second number: \"))\n",
        "    num3 = float(input(\"Enter the third number: \"))\n",
        "\n",
        "    maximum_number = find_maximum_of_three(num1, num2, num3)\n",
        "\n",
        "    print(f\"The maximum of three numbers is {maximum_number}\")\n",
        "\n",
        "except ValueError:\n",
        "    print(\"Invalid input. Please enter numeric values.\")"
      ],
      "execution_count": 11,
      "outputs": [
        {
          "output_type": "stream",
          "name": "stdout",
          "text": [
            "Enter the first number: 8\n",
            "Enter the second number: 90\n",
            "Enter the third number: 8\n",
            "The maximum of three numbers is 90.0\n"
          ]
        }
      ]
    }
  ]
}