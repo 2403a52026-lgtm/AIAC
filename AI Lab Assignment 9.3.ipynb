{
  "nbformat": 4,
  "nbformat_minor": 0,
  "metadata": {
    "colab": {
      "provenance": [],
      "authorship_tag": "ABX9TyN+0uilT2hV8NC+StzG8vpd",
      "include_colab_link": true
    },
    "kernelspec": {
      "name": "python3",
      "display_name": "Python 3"
    },
    "language_info": {
      "name": "python"
    }
  },
  "cells": [
    {
      "cell_type": "markdown",
      "metadata": {
        "id": "view-in-github",
        "colab_type": "text"
      },
      "source": [
        "<a href=\"https://colab.research.google.com/github/2403a52026-lgtm/AIAC/blob/main/AI%20Lab%20Assignment%209.3.ipynb\" target=\"_parent\"><img src=\"https://colab.research.google.com/assets/colab-badge.svg\" alt=\"Open In Colab\"/></a>"
      ]
    },
    {
      "cell_type": "markdown",
      "source": [
        "Task 1:\n",
        "\n",
        " Basic Docstring Generation\n",
        "\n",
        "• Write python function to return sum of even and odd numbers in the given list.\n",
        "\n",
        "• Incorporate manual docstring in code with Google Style\n",
        "\n",
        "• Use an AI-assisted tool (e.g., Copilot, Cursor AI) to generate a docstring describing\n",
        "the function.\n",
        "\n",
        "• Compare the AI-generated docstring with your manually written one"
      ],
      "metadata": {
        "id": "YlUBVyzbyz4I"
      }
    },
    {
      "cell_type": "markdown",
      "source": [
        "Prompt:\n",
        "generate a python function to treturn sum of even and odd numbers in the given list ,and create a docstring describing the function"
      ],
      "metadata": {
        "id": "bzhJDLA61mf8"
      }
    },
    {
      "cell_type": "code",
      "source": [
        "def sum_even_odd(numbers):\n",
        "  \"\"\"Calculates the sum of even and odd numbers in a list.\n",
        "\n",
        "  Args:\n",
        "    numbers: A list of integers.\n",
        "\n",
        "  Returns:\n",
        "    A tuple containing the sum of even numbers and the sum of odd numbers.\n",
        "  \"\"\"\n",
        "  even_sum = 0\n",
        "  odd_sum = 0\n",
        "  for number in numbers:\n",
        "    if number % 2 == 0:\n",
        "      even_sum += number\n",
        "    else:\n",
        "      odd_sum += number\n",
        "  return even_sum, odd_sum\n",
        "\n",
        "# Example usage:\n",
        "my_list = [1, 2, 3, 4, 5, 6, 7, 8, 9, 10]\n",
        "even_total, odd_total = sum_even_odd(my_list)\n",
        "print(f\"Original list: {my_list}\")\n",
        "print(f\"Sum of even numbers: {even_total}\")\n",
        "print(f\"Sum of odd numbers: {odd_total}\")"
      ],
      "metadata": {
        "colab": {
          "base_uri": "https://localhost:8080/"
        },
        "id": "q2gCGKLv5irF",
        "outputId": "93c2d955-dfca-425f-fc2b-982b9ef17ca9"
      },
      "execution_count": null,
      "outputs": [
        {
          "output_type": "stream",
          "name": "stdout",
          "text": [
            "Original list: [1, 2, 3, 4, 5, 6, 7, 8, 9, 10]\n",
            "Sum of even numbers: 30\n",
            "Sum of odd numbers: 25\n"
          ]
        }
      ]
    },
    {
      "cell_type": "markdown",
      "source": [
        "Comparision:\n",
        "\n",
        "Both cover the same content.\n",
        "\n",
        "AI-generated docstring is shorter, but accurate.\n",
        "\n",
        "Manual one may be more descriptive for beginners."
      ],
      "metadata": {
        "id": "sWmu_Qwb6AYT"
      }
    },
    {
      "cell_type": "markdown",
      "source": [
        "Observation :\n",
        "\n",
        "Manual docstrings allow more control over description, context, and clarity.\n",
        "\n",
        "AI-generated docstrings are often concise and syntactically correct but may miss some specifics unless the code is very clear.\n",
        "\n",
        "The comparison helped identify AI’s strength in quick generation and its limitations in deeper code understanding.\n",
        "\n",
        "This task enhanced my understanding of standard documentation styles and showed how AI can assist but still requires human review."
      ],
      "metadata": {
        "id": "831NWzaS6Cc4"
      }
    },
    {
      "cell_type": "markdown",
      "source": [
        "Task 2 :\n",
        " Automatic Inline Comments\n",
        "\n",
        "• Write python program for sru_student class with attributes like name, roll no.,\n",
        "hostel_status and fee_update method and display_details method.\n",
        "\n",
        "• Write comments manually for each line/code block\n",
        "\n",
        "• Ask an AI tool to add inline comments explaining each line/step.\n",
        "\n",
        "• Compare the AI-generated comments with your manually written one."
      ],
      "metadata": {
        "id": "WEUYxQNO6JP8"
      }
    },
    {
      "cell_type": "markdown",
      "source": [
        "Prompt1:\n",
        "Generate python program for sru_student class with attributes like name, roll no., hostel_status and fee_update method and display_details method.\n",
        "dont include comments in this code"
      ],
      "metadata": {
        "id": "acA9tBP_6mvG"
      }
    },
    {
      "cell_type": "code",
      "source": [
        "class sru_student:\n",
        "    def __init__(self, name, roll_no, hostel_status):\n",
        "        self.name = name\n",
        "        self.roll_no = roll_no\n",
        "        self.hostel_status = hostel_status\n",
        "\n",
        "    def fee_update(self, amount):\n",
        "        print(f\"Fee update of {amount} received for {self.name}\")\n",
        "\n",
        "    def display_details(self):\n",
        "        print(f\"Student Name: {self.name}\")\n",
        "        print(f\"Roll Number: {self.roll_no}\")\n",
        "        print(f\"Hostel Status: {self.hostel_status}\")\n",
        "\n",
        "# Example usage:\n",
        "student1 = sru_student(\"Alice\", \"SRU123\", \"Resident\")\n",
        "student1.display_details()\n",
        "student1.fee_update(5000)"
      ],
      "metadata": {
        "colab": {
          "base_uri": "https://localhost:8080/"
        },
        "id": "hm7fKRPQ6480",
        "outputId": "0989a43a-e8dd-4e5a-f25d-9b16f001ac46"
      },
      "execution_count": null,
      "outputs": [
        {
          "output_type": "stream",
          "name": "stdout",
          "text": [
            "Student Name: Alice\n",
            "Roll Number: SRU123\n",
            "Hostel Status: Resident\n",
            "Fee update of 5000 received for Alice\n"
          ]
        }
      ]
    },
    {
      "cell_type": "markdown",
      "source": [
        "Prompt2:\n",
        "Generate python program for sru_student class with attributes like name, roll no., hostel_status and fee_update method and display_details method. give comments"
      ],
      "metadata": {
        "id": "t368Du4q7oIM"
      }
    },
    {
      "cell_type": "code",
      "source": [
        "class sru_student:\n",
        "    # Constructor to initialize the sru_student object with name, roll number, and hostel status\n",
        "    def __init__(self, name, roll_no, hostel_status):\n",
        "        # Assign the provided name to the instance variable\n",
        "        self.name = name\n",
        "        # Assign the provided roll number to the instance variable\n",
        "        self.roll_status = roll_no\n",
        "        # Assign the provided hostel status to the instance variable\n",
        "        self.hostel_status = hostel_status\n",
        "\n",
        "    # Method to simulate a fee update for the student\n",
        "    def fee_update(self, amount):\n",
        "        # Print a message indicating the fee update and the student's name\n",
        "        print(f\"Fee update of {amount} received for {self.name}\")\n",
        "\n",
        "    # Method to display the details of the student\n",
        "    def display_details(self):\n",
        "        # Print the student's name\n",
        "        print(f\"Student Name: {self.name}\")\n",
        "        # Print the student's roll number\n",
        "        print(f\"Roll Number: {self.roll_status}\")\n",
        "        # Print the student's hostel status\n",
        "        print(f\"Hostel Status: {self.hostel_status}\")\n",
        "\n",
        "# Example usage:\n",
        "student1 = sru_student(\"Alice\", \"SRU123\", \"Resident\")\n",
        "student1.display_details()\n",
        "student1.fee_update(5000)"
      ],
      "metadata": {
        "colab": {
          "base_uri": "https://localhost:8080/"
        },
        "id": "CuZ0lr3r7s58",
        "outputId": "a09f9aac-2259-4c16-815f-da39a3e3e73e"
      },
      "execution_count": null,
      "outputs": [
        {
          "output_type": "stream",
          "name": "stdout",
          "text": [
            "Student Name: Alice\n",
            "Roll Number: SRU123\n",
            "Hostel Status: Resident\n",
            "Fee update of 5000 received for Alice\n"
          ]
        }
      ]
    },
    {
      "cell_type": "markdown",
      "source": [
        "Explanation:\n",
        "You define a sru_student class with attributes and methods.\n",
        "You write manual inline comments for each line, and then use AI to generate automatic inline comments.\n",
        "You compare both to understand how well AI explains the code logic."
      ],
      "metadata": {
        "id": "SBlGMXRa8Vh_"
      }
    },
    {
      "cell_type": "markdown",
      "source": [
        "Observation:\n",
        "\n",
        "Manually written comments were specific and tailored to the logic and intent of the code.\n",
        "\n",
        "AI-generated inline comments were mostly accurate and explained basic syntax and purpose clearly.\n",
        "\n",
        "However, AI sometimes added redundant or too generic comments.\n",
        "\n",
        "This task helped me evaluate the clarity of my own comments and understand where AI assistance is helpful for beginners or repetitive tasks.\n"
      ],
      "metadata": {
        "id": "_KEhI96a8Wt_"
      }
    },
    {
      "cell_type": "markdown",
      "source": [
        "Comparision:\n",
        "Manual comments are more specific and explain both what and why.\n",
        "\n",
        "AI comments explain what the code does, but may be too generic or repetitive.\n",
        "\n",
        "Manual comments are better for understanding logic, while AI helps with quick summaries."
      ],
      "metadata": {
        "id": "ix_ow6lG8tK8"
      }
    },
    {
      "cell_type": "markdown",
      "source": [
        "Task 3:\n",
        "\n",
        " Write a Python script with 3–4 functions (e.g., calculator: add, subtract, multiply,\n",
        "divide).\n",
        "\n",
        "• Incorporate manual docstring in code with NumPy Style\n",
        "\n",
        "• Use AI assistance to generate a module-level docstring + individual function\n",
        "docstrings.\n",
        "\n",
        "• Compare the AI-generated docstring with your manually written one."
      ],
      "metadata": {
        "id": "DgRO3BMF848w"
      }
    },
    {
      "cell_type": "markdown",
      "source": [
        "Prompt:generate a python program with 4 functions EX:add,subtract,multiply,divide and provide  a module-level docstring +individual function docstrings"
      ],
      "metadata": {
        "id": "BSbmM3ED9ko7"
      }
    },
    {
      "cell_type": "code",
      "source": [
        "\"\"\"\n",
        "This module provides basic arithmetic operations: add, subtract, multiply, and divide.\n",
        "Each function includes a NumPy-style docstring.\n",
        "\"\"\"\n",
        "\n",
        "def add(a, b):\n",
        "    \"\"\"\n",
        "    Adds two numbers.\n",
        "\n",
        "    Parameters\n",
        "    ----------\n",
        "    a : float or int\n",
        "        The first number.\n",
        "    b : float or int\n",
        "        The second number.\n",
        "\n",
        "    Returns\n",
        "    -------\n",
        "    float or int\n",
        "        The sum of a and b.\n",
        "    \"\"\"\n",
        "    return a + b\n",
        "\n",
        "def subtract(a, b):\n",
        "    \"\"\"\n",
        "    Subtracts the second number from the first.\n",
        "\n",
        "    Parameters\n",
        "    ----------\n",
        "    a : float or int\n",
        "        The first number.\n",
        "    b : float or int\n",
        "        The second number.\n",
        "\n",
        "    Returns\n",
        "    -------\n",
        "    float or int\n",
        "        The difference between a and b.\n",
        "    \"\"\"\n",
        "    return a - b\n",
        "\n",
        "def multiply(a, b):\n",
        "    \"\"\"\n",
        "    Multiplies two numbers.\n",
        "\n",
        "    Parameters\n",
        "    ----------\n",
        "    a : float or int\n",
        "        The first number.\n",
        "    b : float or int\n",
        "        The second number.\n",
        "\n",
        "    Returns\n",
        "    -------\n",
        "    float or int\n",
        "        The product of a and b.\n",
        "    \"\"\"\n",
        "    return a * b\n",
        "\n",
        "def divide(a, b):\n",
        "    \"\"\"\n",
        "    Divides the first number by the second.\n",
        "\n",
        "    Parameters\n",
        "    ----------\n",
        "    a : float or int\n",
        "        The numerator.\n",
        "    b : float or int\n",
        "        The denominator.\n",
        "\n",
        "    Returns\n",
        "    -------\n",
        "    float or int\n",
        "        The quotient of a divided by b.\n",
        "\n",
        "    Raises\n",
        "    ------\n",
        "    ZeroDivisionError\n",
        "        If the denominator is zero.\n",
        "    \"\"\"\n",
        "    if b == 0:\n",
        "        raise ZeroDivisionError(\"Cannot divide by zero\")\n",
        "    return a / b\n",
        "\n",
        "# Example usage:\n",
        "num1 = 10\n",
        "num2 = 5\n",
        "\n",
        "print(f\"{num1} + {num2} = {add(num1, num2)}\")\n",
        "print(f\"{num1} - {num2} = {subtract(num1, num2)}\")\n",
        "print(f\"{num1} * {num2} = {multiply(num1, num2)}\")\n",
        "print(f\"{num1} / {num2} = {divide(num1, num2)}\")\n",
        "\n",
        "# Example of ZeroDivisionError\n",
        "# print(divide(num1, 0))"
      ],
      "metadata": {
        "colab": {
          "base_uri": "https://localhost:8080/"
        },
        "id": "ny9RxuFO9fWu",
        "outputId": "c726a507-6e06-4240-e1f3-78b0a8126840"
      },
      "execution_count": 13,
      "outputs": [
        {
          "output_type": "stream",
          "name": "stdout",
          "text": [
            "10 + 5 = 15\n",
            "10 - 5 = 5\n",
            "10 * 5 = 50\n",
            "10 / 5 = 2.0\n"
          ]
        }
      ]
    },
    {
      "cell_type": "markdown",
      "source": [
        "Explanation:\n",
        "\n",
        "Module Docstring: The triple-quoted string at the beginning is a module-level docstring. It explains the overall purpose of the module, which is to provide basic arithmetic functions and mentions that each function has a NumPy-style docstring.\n",
        "\n",
        "add(a, b) function: This function takes two arguments, a and b, and returns their sum. The docstring explains the parameters (a and b) and what the function returns.\n",
        "\n",
        "subtract(a, b) function: This function takes two arguments, a and b, and returns the result of subtracting b from a. The docstring describes the parameters and the return value.\n",
        "\n",
        "multiply(a, b) function: This function takes two arguments, a and b, and returns their product. The docstring explains the parameters and the return value.\n",
        "\n",
        "divide(a, b) function: This function takes two arguments, a (numerator) and b (denominator), and returns the result of dividing a by b. The docstring describes the parameters, the return value, and also includes a Raises section to indicate that it will raise a ZeroDivisionError if the denominator b is zero.\n",
        "\n",
        "Example Usage: The code then demonstrates how to use these functions with example numbers (num1 and num2) and prints the results of each operation. There is also a commented-out line showing how calling divide with a denominator of 0 would raise an error."
      ],
      "metadata": {
        "id": "6_O-jMGc-79V"
      }
    },
    {
      "cell_type": "markdown",
      "source": [
        "Observation :\n",
        "      The use of NumPy-style docstrings provides clear and structured documentation for each function, making the code easier to understand and use. The example usage effectively demonstrates the functionality and the inclusion of error handling makes the divide function robust. This structure is good practice for creating reusable and well-documented code."
      ],
      "metadata": {
        "id": "NnP_sQqe_S8p"
      }
    }
  ]
}