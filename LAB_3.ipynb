{
  "nbformat": 4,
  "nbformat_minor": 0,
  "metadata": {
    "colab": {
      "provenance": [],
      "authorship_tag": "ABX9TyMPco2DS+RqqhwczL5hBlMx",
      "include_colab_link": true
    },
    "kernelspec": {
      "name": "python3",
      "display_name": "Python 3"
    },
    "language_info": {
      "name": "python"
    }
  },
  "cells": [
    {
      "cell_type": "markdown",
      "metadata": {
        "id": "view-in-github",
        "colab_type": "text"
      },
      "source": [
        "<a href=\"https://colab.research.google.com/github/2403a52026-lgtm/AIAC/blob/main/LAB_3.ipynb\" target=\"_parent\"><img src=\"https://colab.research.google.com/assets/colab-badge.svg\" alt=\"Open In Colab\"/></a>"
      ]
    },
    {
      "cell_type": "markdown",
      "source": [
        "task 1:Try 3 different prompts to generate a factorial function.\n",
        "\n",
        "prompt:1)cerate a python function that generates a factorial\n",
        "\n",
        "       2)write a python function that takes a user input a nuber and gives the factorial of number\n",
        "\n",
        "       3) generate a python function that calculates the factorial given number"
      ],
      "metadata": {
        "id": "AEUESVX1nYul"
      }
    },
    {
      "cell_type": "code",
      "execution_count": null,
      "metadata": {
        "id": "nOi1HJGikFo_"
      },
      "outputs": [],
      "source": [
        "def factorial(n):\n",
        "  \"\"\"Calculates the factorial of a non-negative integer.\"\"\"\n",
        "  if n == 0:\n",
        "    return 1\n",
        "  else:\n",
        "    return n * factorial(n-1)\n",
        "\n",
        "# Example usage:\n",
        "num = 5\n",
        "print(f\"The factorial of {num} is {factorial(num)}\")"
      ]
    },
    {
      "cell_type": "code",
      "source": [],
      "metadata": {
        "id": "PKtULFAcnpFw"
      },
      "execution_count": null,
      "outputs": []
    },
    {
      "cell_type": "code",
      "metadata": {
        "id": "3ae07fa8"
      },
      "source": [
        "def factorial_from_input():\n",
        "  \"\"\"Takes user input, calculates the factorial, and prints the result.\"\"\"\n",
        "  try:\n",
        "    num = int(input(\"Enter a non-negative integer to calculate its factorial: \"))\n",
        "    if num < 0:\n",
        "      print(\"Factorial is not defined for negative numbers.\")\n",
        "    else:\n",
        "      result = factorial(num) # Reuse the previously defined factorial function\n",
        "      print(f\"The factorial of {num} is {result}\")\n",
        "  except ValueError:\n",
        "    print(\"Invalid input. Please enter an integer.\")\n",
        "\n",
        "factorial_from_input()"
      ],
      "execution_count": null,
      "outputs": []
    },
    {
      "cell_type": "code",
      "source": [
        "def calculate_factorial(number):\n",
        "  \"\"\"Calculates the factorial of a given non-negative integer.\"\"\"\n",
        "  if number < 0:\n",
        "    return \"Factorial is not defined for negative numbers\"\n",
        "  elif number == 0:\n",
        "    return 1\n",
        "  else:\n",
        "    result = 1\n",
        "    for i in range(1, number + 1):\n",
        "      result *= i\n",
        "    return result\n",
        "\n",
        "# Example usage:\n",
        "num_to_calculate = 6\n",
        "print(f\"The factorial of {num_to_calculate} is {calculate_factorial(num_to_calculate)}\")"
      ],
      "metadata": {
        "id": "giRvpFHvoI4Q"
      },
      "execution_count": null,
      "outputs": []
    },
    {
      "cell_type": "markdown",
      "source": [
        "similarities:\n",
        "\n",
        "Both code snippets define and use the same factorial(n) function to calculate the factorial of a non-negative integer using recursion. Differences:\n",
        "\n",
        "Feature Code Snippet 1 (Fixed Input) Code Snippet 2 (User Input with Error Handling) Input Source Uses a predefined integer variable (num = 5 in the examples) Prompts the user to enter a number using input() Flexibility Less flexible; always calculates the factorial of the same number More flexible; allows the user to calculate the factorial of different numbers Error Handling No explicit error handling for invalid input Includes a try-except block to handle ValueError for non-integer input Negative Numbers No explicit check for negative input Checks if the input is negative and provides an informative message Interactivity Non-interactive Interactive; requires user participation In essence, the first code snippet is a simple demonstration of the factorial function with a fixed value, while the second is designed for practical use, allowing users to input numbers and providing basic validation and error handling."
      ],
      "metadata": {
        "id": "Wu61XO7OorGz"
      }
    },
    {
      "cell_type": "markdown",
      "source": [
        "task 02: Provide a clear example input-output prompt to generate a sorting function\n",
        "\n",
        "prompt:write a python function sort_list that makes a list of numbers as input and returns a new list with the numbers sorted in asscending order"
      ],
      "metadata": {
        "id": "JVucrCuzp1gw"
      }
    },
    {
      "cell_type": "code",
      "source": [],
      "metadata": {
        "id": "XkxRN4dup4aC"
      },
      "execution_count": null,
      "outputs": []
    },
    {
      "cell_type": "markdown",
      "source": [
        "output:Functional sorting code from AI"
      ],
      "metadata": {
        "id": "AmzycEOnqFZQ"
      }
    },
    {
      "cell_type": "code",
      "source": [
        "def sort_list(numbers):\n",
        "  \"\"\"Sorts a list of numbers in ascending order.\"\"\"\n",
        "  return sorted(numbers)\n",
        "\n",
        "# Example usage:\n",
        "my_list = [3, 1, 4, 1, 5, 9, 2, 6]\n",
        "sorted_list = sort_list(my_list)\n",
        "print(f\"Original list: {my_list}\")\n",
        "print(f\"Sorted list: {sorted_list}\")"
      ],
      "metadata": {
        "id": "UnDM1hGZqObE"
      },
      "execution_count": null,
      "outputs": []
    },
    {
      "cell_type": "markdown",
      "source": [
        "task 03:Start with the vague prompt “Generate python code to calculate power bill” and improve it step-by-step"
      ],
      "metadata": {
        "id": "8RugrM9BqxU9"
      }
    },
    {
      "cell_type": "code",
      "source": [],
      "metadata": {
        "id": "GRsRoeiJq0Gh"
      },
      "execution_count": null,
      "outputs": []
    },
    {
      "cell_type": "code",
      "metadata": {
        "id": "0b1120b3"
      },
      "source": [
        "def calculate_power_bill(kilowatt_hours, rate_per_kwh):\n",
        "  \"\"\"\n",
        "  Calculates a simple power bill based on kilowatt-hours consumed and rate.\n",
        "\n",
        "  Args:\n",
        "    kilowatt_hours: The total kilowatt-hours consumed.\n",
        "    rate_per_kwh: The cost per kilowatt-hour.\n",
        "\n",
        "  Returns:\n",
        "    The total power bill amount.\n",
        "  \"\"\"\n",
        "  if kilowatt_hours < 0 or rate_per_kwh < 0:\n",
        "    return \"Kilowatt-hours and rate cannot be negative.\"\n",
        "  else:\n",
        "    return kilowatt_hours * rate_per_kwh\n",
        "\n",
        "# Example usage:\n",
        "kwh_consumed = 500  # Replace with actual kilowatt-hours\n",
        "rate = 0.15        # Replace with actual rate per kWh\n",
        "\n",
        "bill_amount = calculate_power_bill(kwh_consumed, rate)\n",
        "print(f\"The power bill amount is: ${bill_amount:.2f}\")"
      ],
      "execution_count": null,
      "outputs": []
    },
    {
      "cell_type": "markdown",
      "source": [
        "task 04: Write structured comments to help AI generate two linked functions (e.g., login_user() and register_user())"
      ],
      "metadata": {
        "id": "HEplkdHurxrf"
      }
    },
    {
      "cell_type": "code",
      "source": [
        "# Function 1: register_user\n",
        "# This function should handle the process of a new user registering on the platform.\n",
        "# It should take username and password as input.\n",
        "# It should check if the username already exists.\n",
        "# If the username is available, it should securely store the user's credentials (this is a placeholder, actual implementation would involve hashing and a database).\n",
        "# After successful registration, it should indicate success.\n",
        "\n",
        "# Function 2: login_user\n",
        "# This function should handle the process of an existing user logging in.\n",
        "# It should take username and password as input.\n",
        "# It should check if the username exists.\n",
        "# If the username exists, it should verify the provided password against the stored credentials (placeholder - would involve password verification).\n",
        "# If the credentials are valid, it should indicate successful login.\n",
        "# This function is linked to register_user as a user needs to register before they can log in.\n",
        "# Consider how a successful registration might lead to an automatic login or a prompt to log in.\n",
        "\n",
        "# Now, based on the comments above, generate the Python code for these two functions."
      ],
      "metadata": {
        "id": "G2RVd4wor1kK"
      },
      "execution_count": 1,
      "outputs": []
    },
    {
      "cell_type": "markdown",
      "source": [
        "Clearer Intent: Comments allow you to explicitly state the purpose of each function and any shared components or workflows. Identified Dependencies: By mentioning how login_user is linked to register_user, you guide the AI to understand the necessary flow and potential shared data structures (like where user credentials would be stored). Reusable Logic: While the AI generates the code, the clear description in comments about shared aspects (like checking for existing usernames or verifying passwords) can lead the AI to implement these parts in a consistent manner across the related functions, potentially using similar or shared internal logic. In the case of register_user and login_user, both functions would need to interact with a user data store. By describing this in the comments, you encourage the AI to consider this shared requirement and generate code that reflects this shared logic, even if the actual data storage is represented by a placeholder.\n",
        "\n",
        "Would you like me to generate the code for the register_user and login_user functions based on the structured comments we created\n",
        "\n"
      ],
      "metadata": {
        "id": "-lPSWTEasFhw"
      }
    },
    {
      "cell_type": "code",
      "source": [],
      "metadata": {
        "id": "acB45k84sGYv"
      },
      "execution_count": null,
      "outputs": []
    },
    {
      "cell_type": "markdown",
      "source": [
        "task 05:Analyzing Prompt Specificity: Improving Temperature Conversion Function with Clear Instructions"
      ],
      "metadata": {
        "id": "XpyC6-8AsldS"
      }
    },
    {
      "cell_type": "markdown",
      "source": [
        "Identify missing information: Determine what specific details are needed to make the prompt clear and actionable for generating the function (e.g., which units to convert, the formula, input/output format). Refine the prompt - step 1: Create a more specific prompt based on the identified missing information. Generate code - step 1: Generate code based on the first refined prompt. Further refine the prompt - step 2: Refine the prompt further to include more details or handle specific cases (e.g., error handling for invalid input).\n",
        "\n",
        "Generate code - step 2: Generate code based on the second refined prompt. Compare and explain: Compare the code generated from the vague and refined prompts, explaining how the increased specificity led to a more complete and useful function. Finish task: Summarize the findings on prompt specificity and its impact on AI code generation."
      ],
      "metadata": {
        "id": "jcWwqWyGsyKH"
      }
    },
    {
      "cell_type": "markdown",
      "source": [
        "When you provide a clearer, more specific prompt, you are essentially giving the AI more constraints and information to work with. This allows the AI to generate code that is:\n",
        "\n",
        "More accurate: It better reflects the specific requirements. More complete: It's more likely to include necessary details like error handling or specific logic. More aligned with intent: The code will do what you actually wanted it to do. Essentially, clearer prompts lead to code that is more functional, robust, and closer to a production-ready state – which we can consider higher quality in this context.\n",
        "\n",
        "We can observe this difference in code quality as we go through the steps of refining the prompt for the temperature conversion function, as outlined in the plan we just created. We'll start with a vague prompt, see the resulting code, and then refine the prompt to get more specific and potentially higher-quality code."
      ],
      "metadata": {
        "id": "mjPs-WXDs864"
      }
    },
    {
      "cell_type": "code",
      "source": [],
      "metadata": {
        "id": "wbJGRSNys92a"
      },
      "execution_count": null,
      "outputs": []
    }
  ]
}