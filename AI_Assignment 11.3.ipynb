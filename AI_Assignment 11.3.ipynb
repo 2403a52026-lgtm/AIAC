{
  "nbformat": 4,
  "nbformat_minor": 0,
  "metadata": {
    "colab": {
      "provenance": [],
      "authorship_tag": "ABX9TyOyq/4q+Ul5cvDc5l0h/PRo",
      "include_colab_link": true
    },
    "kernelspec": {
      "name": "python3",
      "display_name": "Python 3"
    },
    "language_info": {
      "name": "python"
    }
  },
  "cells": [
    {
      "cell_type": "markdown",
      "metadata": {
        "id": "view-in-github",
        "colab_type": "text"
      },
      "source": [
        "<a href=\"https://colab.research.google.com/github/2403a52026-lgtm/AIAC/blob/main/AI_Assignment%2011.3.ipynb\" target=\"_parent\"><img src=\"https://colab.research.google.com/assets/colab-badge.svg\" alt=\"Open In Colab\"/></a>"
      ]
    },
    {
      "cell_type": "markdown",
      "source": [
        "Task 1: Task: Ask AI to implement a stack class with push(), pop(), peek() and\n",
        "is_empty() methods"
      ],
      "metadata": {
        "id": "IrBiK1LS5I9Q"
      }
    },
    {
      "cell_type": "markdown",
      "source": [
        "Pormpt :generate a python program by implementing a stack class with push(),pop(),peek(),and is_empty() methods"
      ],
      "metadata": {
        "id": "oboILh2v5TDt"
      }
    },
    {
      "cell_type": "code",
      "source": [
        "class Stack:\n",
        "    def __init__(self):\n",
        "        self.items = []\n",
        "\n",
        "    def is_empty(self):\n",
        "        \"\"\"Checks if the stack is empty.\"\"\"\n",
        "        return not self.items\n",
        "\n",
        "    def push(self, item):\n",
        "        \"\"\"Adds an item to the top of the stack.\"\"\"\n",
        "        self.items.append(item)\n",
        "\n",
        "    def pop(self):\n",
        "        \"\"\"Removes and returns the item from the top of the stack.\n",
        "        Returns None if the stack is empty.\"\"\"\n",
        "        if not self.is_empty():\n",
        "            return self.items.pop()\n",
        "        else:\n",
        "            return None\n",
        "\n",
        "    def peek(self):\n",
        "        \"\"\"Returns the item at the top of the stack without removing it.\n",
        "        Returns None if the stack is empty.\"\"\"\n",
        "        if not self.is_empty():\n",
        "            return self.items[-1]\n",
        "        else:\n",
        "            return None\n",
        "\n",
        "# Example usage:\n",
        "if __name__ == \"__main__\":\n",
        "    stack = Stack()\n",
        "    print(f\"Is the stack empty? {stack.is_empty()}\")\n",
        "\n",
        "    stack.push(10)\n",
        "    stack.push(20)\n",
        "    stack.push(30)\n",
        "\n",
        "    print(f\"Is the stack empty after pushing items? {stack.is_empty()}\")\n",
        "    print(f\"Top element: {stack.peek()}\")\n",
        "    print(f\"Popped element: {stack.pop()}\")\n",
        "    print(f\"Top element after pop: {stack.peek()}\")\n",
        "    print(f\"Popped element: {stack.pop()}\")\n",
        "    print(f\"Popped element: {stack.pop()}\")\n",
        "    print(f\"Popped element from empty stack: {stack.pop()}\")"
      ],
      "metadata": {
        "colab": {
          "base_uri": "https://localhost:8080/"
        },
        "id": "BscfvWke54Jr",
        "outputId": "642ad7b1-883a-4c72-9904-940a6a2bce61"
      },
      "execution_count": 1,
      "outputs": [
        {
          "output_type": "stream",
          "name": "stdout",
          "text": [
            "Is the stack empty? True\n",
            "Is the stack empty after pushing items? False\n",
            "Top element: 30\n",
            "Popped element: 30\n",
            "Top element after pop: 20\n",
            "Popped element: 20\n",
            "Popped element: 10\n",
            "Popped element from empty stack: None\n"
          ]
        }
      ]
    },
    {
      "cell_type": "markdown",
      "source": [
        "EXPLANATION:\n",
        "1. A `Stack` class is defined using a list to store items, with standard methods: `push`, `pop`, `peek`, and `is_empty`.\n",
        "2. `is_empty()` checks if the stack is empty by evaluating if the list is empty.\n",
        "3. `push(item)` adds an item to the end (top) of the stack.\n",
        "4. `pop()` removes and returns the top item if the stack isn't empty; otherwise, it returns an error message.\n",
        "5. `peek()` returns the top item without removing it, or an error message if the stack is empty.\n",
        "6. A loop provides a menu for the user to perform stack operations interactively.\n",
        "7. Based on user input, the corresponding stack method is called, until the user chooses to exit."
      ],
      "metadata": {
        "id": "dFJvNmZW6pXR"
      }
    },
    {
      "cell_type": "markdown",
      "source": [
        "Task 2: Use AI to generate a Queue class with enqueue(), dequeue(), and\n",
        "is_empty()"
      ],
      "metadata": {
        "id": "K_DgloVR7Pol"
      }
    },
    {
      "cell_type": "code",
      "source": [
        "Prompt:generate a python program of a queue class with enqueue(),dequeue() and is_empty()"
      ],
      "metadata": {
        "id": "8sWwuNCf7gKc"
      },
      "execution_count": null,
      "outputs": []
    },
    {
      "cell_type": "code",
      "source": [
        "class Queue:\n",
        "    def __init__(self):\n",
        "        self.items = []\n",
        "\n",
        "    def is_empty(self):\n",
        "        \"\"\"Checks if the queue is empty.\"\"\"\n",
        "        return not self.items\n",
        "\n",
        "    def enqueue(self, item):\n",
        "        \"\"\"Adds an item to the rear of the queue.\"\"\"\n",
        "        self.items.append(item)\n",
        "\n",
        "    def dequeue(self):\n",
        "        \"\"\"Removes and returns the item from the front of the queue.\n",
        "        Returns None if the queue is empty.\"\"\"\n",
        "        if not self.is_empty():\n",
        "            return self.items.pop(0) # Remove from the front\n",
        "        else:\n",
        "            return None\n",
        "\n",
        "# Example usage:\n",
        "if __name__ == \"__main__\":\n",
        "    queue = Queue()\n",
        "    print(f\"Is the queue empty? {queue.is_empty()}\")\n",
        "\n",
        "    queue.enqueue(10)\n",
        "    queue.enqueue(20)\n",
        "    queue.enqueue(30)\n",
        "\n",
        "    print(f\"Is the queue empty after enqueuing items? {queue.is_empty()}\")\n",
        "    print(f\"Dequeued element: {queue.dequeue()}\")\n",
        "    print(f\"Dequeued element: {queue.dequeue()}\")\n",
        "    print(f\"Dequeued element: {queue.dequeue()}\")\n",
        "    print(f\"Dequeued element from empty queue: {queue.dequeue()}\")"
      ],
      "metadata": {
        "colab": {
          "base_uri": "https://localhost:8080/"
        },
        "id": "EohjQB0B73Ml",
        "outputId": "f26e9497-d22d-4a79-82e5-68618903ed8b"
      },
      "execution_count": 2,
      "outputs": [
        {
          "output_type": "stream",
          "name": "stdout",
          "text": [
            "Is the queue empty? True\n",
            "Is the queue empty after enqueuing items? False\n",
            "Dequeued element: 10\n",
            "Dequeued element: 20\n",
            "Dequeued element: 30\n",
            "Dequeued element from empty queue: None\n"
          ]
        }
      ]
    },
    {
      "cell_type": "markdown",
      "source": [
        "EXPLANATION:\n",
        "\n",
        "A Queue class is created using a list, where enqueue adds items to the front, and dequeue removes from the end.\n",
        "is_empty() checks if the queue is empty by checking if the list is empty.\n",
        "enqueue(item) inserts an item at the beginning of the list to simulate queue behavior.\n",
        "dequeue() removes and returns the item from the end (oldest item), or returns an error message if empty.\n",
        "The example shows queue operations: checking if empty, adding items, removing them in FIFO order, and handling underflow."
      ],
      "metadata": {
        "id": "FAkWaC1M8yYH"
      }
    },
    {
      "cell_type": "markdown",
      "source": [
        "Task 3: Ask AI to create a singly linked list with insert_at_end(),\n",
        "insert_at_beginning(), and display()."
      ],
      "metadata": {
        "id": "z9ZVUAU880JJ"
      }
    },
    {
      "cell_type": "markdown",
      "source": [
        "Prompt:generate a python program by creating singly linked list with insert_at_end(), insert_at_beginning(), and display()"
      ],
      "metadata": {
        "id": "-02bzNya8-sm"
      }
    },
    {
      "cell_type": "code",
      "source": [
        "class Node:\n",
        "    \"\"\"Represents a node in a singly linked list.\"\"\"\n",
        "    def __init__(self, data):\n",
        "        self.data = data\n",
        "        self.next = None\n",
        "\n",
        "class SinglyLinkedList:\n",
        "    \"\"\"Represents a singly linked list.\"\"\"\n",
        "    def __init__(self):\n",
        "        self.head = None\n",
        "\n",
        "    def insert_at_beginning(self, data):\n",
        "        \"\"\"Inserts a new node at the beginning of the list.\"\"\"\n",
        "        new_node = Node(data)\n",
        "        new_node.next = self.head\n",
        "        self.head = new_node\n",
        "\n",
        "    def insert_at_end(self, data):\n",
        "        \"\"\"Inserts a new node at the end of the list.\"\"\"\n",
        "        new_node = Node(data)\n",
        "        if self.head is None:\n",
        "            self.head = new_node\n",
        "            return\n",
        "        last_node = self.head\n",
        "        while last_node.next:\n",
        "            last_node = last_node.next\n",
        "        last_node.next = new_node\n",
        "\n",
        "    def display(self):\n",
        "        \"\"\"Displays the elements of the linked list.\"\"\"\n",
        "        current = self.head\n",
        "        while current:\n",
        "            print(current.data, end=\" -> \")\n",
        "            current = current.next\n",
        "        print(\"None\")\n",
        "\n",
        "# Example usage:\n",
        "if __name__ == \"__main__\":\n",
        "    linked_list = SinglyLinkedList()\n",
        "\n",
        "    linked_list.insert_at_beginning(10)\n",
        "    linked_list.insert_at_end(20)\n",
        "    linked_list.insert_at_beginning(5)\n",
        "    linked_list.insert_at_end(25)\n",
        "\n",
        "    print(\"Linked list after insertions:\")\n",
        "    linked_list.display()"
      ],
      "metadata": {
        "colab": {
          "base_uri": "https://localhost:8080/"
        },
        "id": "mpdbxD-G9FxC",
        "outputId": "bb3392c3-9263-4c27-c276-b9247c9ccece"
      },
      "execution_count": 8,
      "outputs": [
        {
          "output_type": "stream",
          "name": "stdout",
          "text": [
            "Linked list after insertions:\n",
            "5 -> 10 -> 20 -> 25 -> None\n"
          ]
        }
      ]
    },
    {
      "cell_type": "markdown",
      "source": [
        "EXPLANATION:\n",
        "1. A `Node` class is defined to hold data and a reference (`next`) to the next node in the list.\n",
        "2. The `LinkedList` class manages the list, starting with an empty `head`.\n",
        "3. `insert_at_beginning(data)` creates a new node and places it at the start of the list.\n",
        "4. `insert_at_end(data)` adds a new node at the end by traversing to the last node.\n",
        "5. If the list is empty, `insert_at_end` makes the new node the head.\n",
        "6. `display()` traverses the list and prints each node’s data, ending with `\"None\"`.\n",
        "7. The example creates a list, adds nodes at the beginning and end, then displays the full list."
      ],
      "metadata": {
        "id": "mSUxhK-09PBf"
      }
    },
    {
      "cell_type": "markdown",
      "source": [
        "Task 4: Ask AI to generate a simple BST with insert() and\n",
        "inorder_traversal().\n"
      ],
      "metadata": {
        "id": "hBiVfH5E-HmD"
      }
    },
    {
      "cell_type": "markdown",
      "source": [
        "Prompt:generate a python program with simple BST with insert() and inorder_traversal()."
      ],
      "metadata": {
        "id": "gAOyx-uV-Cq6"
      }
    },
    {
      "cell_type": "code",
      "source": [
        "class Node:\n",
        "    \"\"\"Represents a node in a Binary Search Tree.\"\"\"\n",
        "    def __init__(self, key):\n",
        "        self.key = key\n",
        "        self.left = None\n",
        "        self.right = None\n",
        "\n",
        "class BST:\n",
        "    \"\"\"Represents a Binary Search Tree.\"\"\"\n",
        "    def __init__(self):\n",
        "        self.root = None\n",
        "\n",
        "    def insert(self, key):\n",
        "        \"\"\"Inserts a new node with the given key into the BST.\"\"\"\n",
        "        if self.root is None:\n",
        "            self.root = Node(key)\n",
        "        else:\n",
        "            self._insert_recursive(self.root, key)\n",
        "\n",
        "    def _insert_recursive(self, current_node, key):\n",
        "        \"\"\"Helper function for recursive insertion.\"\"\"\n",
        "        if key < current_node.key:\n",
        "            if current_node.left is None:\n",
        "                current_node.left = Node(key)\n",
        "            else:\n",
        "                self._insert_recursive(current_node.left, key)\n",
        "        elif key > current_node.key:\n",
        "            if current_node.right is None:\n",
        "                current_node.right = Node(key)\n",
        "            else:\n",
        "                self._insert_recursive(current_node.right, key)\n",
        "        # If key is equal, do nothing (assuming no duplicates)\n",
        "\n",
        "    def inorder_traversal(self):\n",
        "        \"\"\"Performs an in-order traversal of the BST.\"\"\"\n",
        "        result = []\n",
        "        self._inorder_recursive(self.root, result)\n",
        "        return result\n",
        "\n",
        "    def _inorder_recursive(self, current_node, result):\n",
        "        \"\"\"Helper function for recursive in-order traversal.\"\"\"\n",
        "        if current_node:\n",
        "            self._inorder_recursive(current_node.left, result)\n",
        "            result.append(current_node.key)\n",
        "            self._inorder_recursive(current_node.right, result)\n",
        "\n",
        "# Example usage:\n",
        "if __name__ == \"__main__\":\n",
        "    bst = BST()\n",
        "    bst.insert(50)\n",
        "    bst.insert(30)\n",
        "    bst.insert(70)\n",
        "    bst.insert(20)\n",
        "    bst.insert(40)\n",
        "    bst.insert(60)\n",
        "    bst.insert(80)\n",
        "\n",
        "    print(\"In-order traversal of the BST:\")\n",
        "    print(bst.inorder_traversal())"
      ],
      "metadata": {
        "colab": {
          "base_uri": "https://localhost:8080/"
        },
        "id": "BYpz43kf-PFu",
        "outputId": "cf2cb5b9-96d6-4afe-ea71-d36b83e85f39"
      },
      "execution_count": 7,
      "outputs": [
        {
          "output_type": "stream",
          "name": "stdout",
          "text": [
            "In-order traversal of the BST:\n",
            "[20, 30, 40, 50, 60, 70, 80]\n"
          ]
        }
      ]
    },
    {
      "cell_type": "markdown",
      "source": [
        "EXPLANATION:\n",
        "1. The `Node` class defines a tree node with `val`, `left`, and `right` attributes.\n",
        "2. The `BST` class manages the binary search tree with an initially empty `root`.\n",
        "3. The `insert()` method recursively places a new `key` in the correct position based on BST rules.\n",
        "4. If the current node is `None`, it creates a new `Node` with the key.\n",
        "5. If the key is less than the current node’s value, it’s inserted into the left subtree; otherwise, the right.\n",
        "6. `inorder_traversal()` recursively visits nodes in left-root-right order, printing values in sorted order.\n",
        "7. In the example, nodes are inserted into the BST in a specific order to build the tree.\n",
        "8. Finally, `inorder_traversal()` prints the BST elements in ascending order."
      ],
      "metadata": {
        "id": "ltWD7zQt-c7H"
      }
    }
  ]
}